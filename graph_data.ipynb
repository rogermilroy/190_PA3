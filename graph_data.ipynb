{
 "cells": [
  {
   "cell_type": "code",
   "execution_count": 22,
   "metadata": {},
   "outputs": [
    {
     "data": {
      "text/plain": [
       "<Figure size 432x288 with 0 Axes>"
      ]
     },
     "execution_count": 22,
     "metadata": {},
     "output_type": "execute_result"
    },
    {
     "data": {
      "image/png": "[encoded data removed]",
      "text/plain": [
       "<Figure size 432x288 with 1 Axes>"
      ]
     },
     "metadata": {
      "needs_background": "light"
     },
     "output_type": "display_data"
    },
    {
     "data": {
      "text/plain": [
       "<Figure size 432x288 with 0 Axes>"
      ]
     },
     "metadata": {},
     "output_type": "display_data"
    }
   ],
   "source": [
    "import torch\n",
    "import torchvision\n",
    "import matplotlib.pyplot as plt\n",
    "from deep_and_small import DeepAndSmallCNN\n",
    "from baseline_cnn import BasicCNN \n",
    "import testing                    \n",
    "import os\n",
    "import pandas as pd\n",
    "#image = torch.load(os.getcwd() + '/images/image-20')\n",
    "  \n",
    "#model = DeepAndSmallCNN()         \n",
    "  \n",
    "#weights = torch.load(os.getcwd() + '/results/kfold-deep-small/test-0-params')\n",
    "  \n",
    "#model.load_state_dict(weights)   \n",
    "  \n",
    "#output = model(image[0])         \n",
    "#img = image[0]\n",
    "#plt.imshow(img[0])                \n",
    "#print(img[0].shape)    \n",
    "#plt.gray()\n",
    "#plt.imshow(img[0])                \n",
    "  \n",
    "#print(image)\n",
    "#print(output)\n",
    "\n",
    "losses = pd.read_csv('./results/kfold-deeptan-subset/trace-0');\n",
    "\n",
    "# average losses\n",
    "fig1 = plt.figure()\n",
    "fig1.suptitle('Loss vs Minibatch', fontsize=20)\n",
    "plt.xlabel('minibatch', fontsize=16)\n",
    "plt.ylabel('loss', fontsize=16)\n",
    "losses.iloc[:,2].plot()\n",
    "\n",
    "\n",
    "plt.figure()"
   ]
  },
  {
   "cell_type": "code",
   "execution_count": 75,
   "metadata": {},
   "outputs": [
    {
     "name": "stdout",
     "output_type": "stream",
     "text": [
      "conv1.weight\n",
      "tensor([[[[ 0.0712,  0.0339,  0.1238, -0.0489,  0.0172, -0.0183, -0.0382,\n",
      "           -0.0328],\n",
      "          [ 0.0028, -0.0323, -0.0318,  0.0632,  0.0780,  0.0673,  0.0631,\n",
      "           -0.0517],\n",
      "          [ 0.0126, -0.0095, -0.0206,  0.0022, -0.0547, -0.0645,  0.0046,\n",
      "           -0.0516],\n",
      "          [ 0.0525,  0.0033, -0.0062,  0.0395,  0.0468,  0.0097, -0.0051,\n",
      "           -0.0356],\n",
      "          [ 0.0114,  0.0531, -0.0113, -0.0091, -0.1197,  0.0303, -0.0181,\n",
      "           -0.0666],\n",
      "          [ 0.0326, -0.0298,  0.0475, -0.0770, -0.0921,  0.0657, -0.0907,\n",
      "           -0.0236],\n",
      "          [-0.0065, -0.0512, -0.0238,  0.0339, -0.1849,  0.0510, -0.0746,\n",
      "           -0.0109],\n",
      "          [ 0.0234, -0.0079, -0.0010, -0.0044, -0.0575,  0.0605,  0.0291,\n",
      "            0.0006]]],\n",
      "\n",
      "\n",
      "        [[[-0.0623, -0.0857, -0.0202, -0.0527,  0.0446,  0.0219,  0.0292,\n",
      "            0.0578],\n",
      "          [-0.0784, -0.0771, -0.0622,  0.0071, -0.0774, -0.0463,  0.0089,\n",
      "            0.0792],\n",
      "          [-0.0404,  0.0077,  0.0111,  0.0180, -0.0672, -0.0720,  0.0028,\n",
      "            0.0024],\n",
      "          [ 0.0622,  0.0365, -0.0624,  0.0660, -0.0079, -0.0747, -0.0234,\n",
      "            0.0115],\n",
      "          [ 0.0430,  0.0342, -0.0347,  0.0090,  0.0006, -0.0131, -0.0367,\n",
      "           -0.0873],\n",
      "          [-0.0084,  0.0744,  0.0901, -0.0122, -0.0046,  0.0489, -0.0561,\n",
      "           -0.0314],\n",
      "          [ 0.0038, -0.0486,  0.0369, -0.0299,  0.0074,  0.0423,  0.1521,\n",
      "            0.0436],\n",
      "          [ 0.0605, -0.0834,  0.0373, -0.0413, -0.0204, -0.0466,  0.0535,\n",
      "           -0.0781]]],\n",
      "\n",
      "\n",
      "        [[[ 0.0150, -0.0119,  0.0353,  0.0721, -0.1150, -0.0354, -0.0497,\n",
      "           -0.0250],\n",
      "          [-0.0207, -0.0845, -0.0132,  0.0351,  0.0232, -0.0199, -0.0511,\n",
      "           -0.1013],\n",
      "          [-0.0244,  0.0336, -0.0077,  0.0607, -0.0116,  0.0099, -0.1574,\n",
      "           -0.0148],\n",
      "          [-0.0511,  0.0168,  0.0578,  0.0065, -0.0472,  0.0208, -0.0087,\n",
      "           -0.0911],\n",
      "          [-0.0237,  0.0025,  0.0632, -0.0075,  0.0349,  0.0477,  0.0183,\n",
      "           -0.0789],\n",
      "          [ 0.0816, -0.0087,  0.0439, -0.0085,  0.0514,  0.0061, -0.1127,\n",
      "           -0.0412],\n",
      "          [-0.1311, -0.0408, -0.1286, -0.0026,  0.0420, -0.0284, -0.0575,\n",
      "           -0.0180],\n",
      "          [-0.0181,  0.0355,  0.0686, -0.0248, -0.0601,  0.0511, -0.0730,\n",
      "            0.0435]]],\n",
      "\n",
      "\n",
      "        [[[ 0.0553,  0.0226, -0.0628,  0.0963,  0.1367, -0.0561, -0.1395,\n",
      "            0.0413],\n",
      "          [-0.0628, -0.0124,  0.0670, -0.0317,  0.0206,  0.0164,  0.0087,\n",
      "           -0.0284],\n",
      "          [-0.0919,  0.0240, -0.0215,  0.0847,  0.0048,  0.0487, -0.0326,\n",
      "            0.0439],\n",
      "          [ 0.0249, -0.0760, -0.0075, -0.0244, -0.1013, -0.0113,  0.0682,\n",
      "           -0.0543],\n",
      "          [ 0.0248,  0.0107,  0.0535, -0.0231, -0.0136,  0.0572, -0.0592,\n",
      "            0.0590],\n",
      "          [ 0.0407,  0.0339,  0.0568,  0.0844, -0.0081, -0.0600,  0.0565,\n",
      "            0.0341],\n",
      "          [ 0.0974,  0.0866,  0.0266,  0.0423,  0.0563, -0.0119,  0.0134,\n",
      "            0.0244],\n",
      "          [-0.0454,  0.0532,  0.0837,  0.0233,  0.1259,  0.0605, -0.0161,\n",
      "           -0.1087]]],\n",
      "\n",
      "\n",
      "        [[[-0.0534, -0.0421, -0.0461, -0.0434, -0.0427, -0.0205, -0.0132,\n",
      "            0.0336],\n",
      "          [-0.0085,  0.0348, -0.0794, -0.0316, -0.0124, -0.0452, -0.0397,\n",
      "           -0.0307],\n",
      "          [-0.0898, -0.0972, -0.0255,  0.0182,  0.0656, -0.0616, -0.0374,\n",
      "           -0.0476],\n",
      "          [-0.1434, -0.0272, -0.0468, -0.0778,  0.0460, -0.0145, -0.0161,\n",
      "            0.0772],\n",
      "          [-0.0740,  0.0437,  0.0316, -0.0204, -0.0433,  0.0264, -0.0092,\n",
      "            0.0068],\n",
      "          [ 0.0275, -0.0509, -0.0170, -0.0193,  0.0433,  0.0621,  0.0116,\n",
      "           -0.0213],\n",
      "          [-0.0665, -0.0084,  0.0125,  0.0767,  0.0131, -0.0338, -0.0099,\n",
      "           -0.0244],\n",
      "          [ 0.0226,  0.0367, -0.0786, -0.0307,  0.1071,  0.0532, -0.0480,\n",
      "           -0.0367]]],\n",
      "\n",
      "\n",
      "        [[[ 0.0218,  0.0496,  0.0684, -0.1490, -0.0500, -0.0753, -0.0316,\n",
      "           -0.0687],\n",
      "          [-0.0060,  0.0537, -0.0942, -0.0528,  0.1663, -0.0503,  0.0119,\n",
      "           -0.0224],\n",
      "          [-0.0541,  0.0145,  0.0354,  0.0632, -0.0137,  0.0451,  0.0234,\n",
      "           -0.0301],\n",
      "          [-0.0867,  0.0258,  0.0037,  0.0613, -0.0364, -0.0300, -0.0952,\n",
      "           -0.0311],\n",
      "          [-0.0169,  0.0238,  0.0054,  0.1596, -0.0197, -0.0735, -0.0407,\n",
      "           -0.0419],\n",
      "          [ 0.0058, -0.1465, -0.0979,  0.0814, -0.0188,  0.0451,  0.0098,\n",
      "            0.0054],\n",
      "          [-0.0694, -0.0003, -0.0798,  0.0533,  0.0047, -0.0710,  0.0369,\n",
      "            0.0429],\n",
      "          [-0.0240, -0.0734,  0.0035, -0.0494, -0.0677, -0.0750, -0.0034,\n",
      "            0.0781]]],\n",
      "\n",
      "\n",
      "        [[[ 0.0422, -0.0534,  0.0510,  0.0330, -0.0126,  0.0230, -0.0056,\n",
      "            0.0015],\n",
      "          [-0.0270, -0.0321, -0.0592,  0.0667, -0.0185, -0.0350,  0.0611,\n",
      "            0.0740],\n",
      "          [-0.0634, -0.0799,  0.0693,  0.0844, -0.0415, -0.0651,  0.0307,\n",
      "           -0.0013],\n",
      "          [-0.0956,  0.0435,  0.0550,  0.0217,  0.0494, -0.0387,  0.0181,\n",
      "           -0.0442],\n",
      "          [-0.0048,  0.0166,  0.0248,  0.0860,  0.0143,  0.0348,  0.0056,\n",
      "            0.0166],\n",
      "          [-0.0477,  0.0701,  0.0136,  0.0342, -0.0142,  0.0141,  0.0506,\n",
      "            0.0442],\n",
      "          [-0.0179,  0.0432,  0.0412,  0.0922, -0.0468, -0.0258,  0.0325,\n",
      "           -0.0283],\n",
      "          [ 0.0941,  0.0898,  0.0039, -0.0337, -0.0581,  0.0087, -0.0275,\n",
      "            0.0164]]],\n",
      "\n",
      "\n",
      "        [[[ 0.1179, -0.0056, -0.0256,  0.0103, -0.0319,  0.1267,  0.0596,\n",
      "           -0.0386],\n",
      "          [ 0.0595,  0.0094,  0.0178,  0.0532,  0.0306, -0.0071, -0.1115,\n",
      "           -0.0122],\n",
      "          [ 0.0195,  0.1041, -0.0604, -0.0220,  0.0284,  0.0953,  0.0394,\n",
      "            0.0569],\n",
      "          [ 0.0456,  0.0471,  0.0746,  0.0136,  0.0462, -0.0460,  0.0422,\n",
      "            0.0356],\n",
      "          [ 0.0182,  0.0724, -0.0631, -0.0675,  0.0201, -0.0414,  0.0141,\n",
      "            0.0098],\n",
      "          [ 0.0583, -0.0794,  0.0905,  0.0118,  0.0275, -0.0248,  0.0243,\n",
      "            0.1347],\n",
      "          [ 0.0159,  0.0272, -0.0297, -0.0111, -0.0157, -0.0871,  0.0128,\n",
      "           -0.0599],\n",
      "          [-0.0518, -0.0504,  0.0635,  0.1090,  0.0260, -0.0022, -0.0486,\n",
      "           -0.0013]]],\n",
      "\n",
      "\n",
      "        [[[-0.0878, -0.0247,  0.0139,  0.0800,  0.0649,  0.0036, -0.0140,\n",
      "           -0.0912],\n",
      "          [ 0.0434, -0.0574,  0.1570,  0.0811, -0.0097, -0.0611, -0.0261,\n",
      "            0.0220],\n",
      "          [ 0.0364, -0.0028, -0.0327, -0.0346, -0.0390,  0.0326,  0.0405,\n",
      "           -0.0360],\n",
      "          [ 0.0616,  0.0671, -0.0325, -0.0333,  0.0765,  0.1186,  0.0540,\n",
      "           -0.0252],\n",
      "          [ 0.0024,  0.0007,  0.1315, -0.1059, -0.0098,  0.0269, -0.0612,\n",
      "            0.0412],\n",
      "          [-0.0977,  0.1018,  0.0210,  0.0215,  0.0936,  0.0015, -0.0101,\n",
      "            0.0986],\n",
      "          [ 0.0071,  0.0171, -0.0631, -0.0756,  0.0325,  0.0935, -0.0034,\n",
      "           -0.0237],\n",
      "          [ 0.0812,  0.0588,  0.0355, -0.0299,  0.0574,  0.0540,  0.0460,\n",
      "            0.0355]]],\n",
      "\n",
      "\n",
      "        [[[-0.0049, -0.0333, -0.0038,  0.0728, -0.0422,  0.0432,  0.1169,\n",
      "           -0.1000],\n",
      "          [ 0.0014, -0.0058, -0.0370,  0.0210,  0.1183, -0.0035, -0.0176,\n",
      "           -0.0192],\n",
      "          [-0.0447, -0.1134, -0.1306,  0.0437,  0.0049,  0.0215,  0.0467,\n",
      "           -0.1002],\n",
      "          [-0.0101, -0.0480,  0.0096, -0.0048,  0.0351,  0.0194, -0.0472,\n",
      "            0.0299],\n",
      "          [-0.0531, -0.0109,  0.0100, -0.0187, -0.0653,  0.0073, -0.0404,\n",
      "           -0.0107],\n",
      "          [-0.0178,  0.0529,  0.0610, -0.0764, -0.0153, -0.1208, -0.0483,\n",
      "            0.0846],\n",
      "          [ 0.0003,  0.0243, -0.0268, -0.0582, -0.1239,  0.0132, -0.0621,\n",
      "            0.0356],\n",
      "          [ 0.0889,  0.0073,  0.0694,  0.0338, -0.0162, -0.0139,  0.0300,\n",
      "           -0.0453]]],\n",
      "\n",
      "\n",
      "        [[[-0.0031, -0.0070, -0.0309,  0.0480, -0.0168, -0.0709, -0.0600,\n",
      "            0.0564],\n",
      "          [ 0.0141, -0.0733,  0.1378,  0.0097,  0.0812, -0.0405,  0.0699,\n",
      "            0.0369],\n",
      "          [-0.0279,  0.0883, -0.0220,  0.0202,  0.0173,  0.0022, -0.0518,\n",
      "            0.0361],\n",
      "          [ 0.0356,  0.0810, -0.0522, -0.0257, -0.1645, -0.0235,  0.0033,\n",
      "           -0.0077],\n",
      "          [ 0.0329,  0.0291,  0.0154, -0.0892, -0.0722, -0.1781,  0.0084,\n",
      "           -0.0669],\n",
      "          [-0.0304,  0.0290,  0.0355,  0.0218, -0.0136, -0.1156, -0.0073,\n",
      "           -0.0243],\n",
      "          [ 0.0021,  0.0126, -0.0466,  0.0089, -0.0622, -0.0120,  0.0916,\n",
      "           -0.0286],\n",
      "          [-0.0066, -0.0063, -0.0237, -0.0315,  0.0105, -0.0649,  0.0447,\n",
      "            0.0139]]],\n",
      "\n",
      "\n",
      "        [[[ 0.0132,  0.0112,  0.0329,  0.0227, -0.0440,  0.1165,  0.0126,\n",
      "           -0.0539],\n",
      "          [-0.0212,  0.0428, -0.0549,  0.0370, -0.0087,  0.0572, -0.0112,\n",
      "            0.0462],\n",
      "          [ 0.0203, -0.0088,  0.0851,  0.0224,  0.0732,  0.0976,  0.0385,\n",
      "           -0.0807],\n",
      "          [ 0.0676, -0.0373, -0.0250, -0.0144,  0.0803,  0.1300, -0.0529,\n",
      "            0.0081],\n",
      "          [-0.0046, -0.0180, -0.0073, -0.0664,  0.0194,  0.0963,  0.0115,\n",
      "           -0.0052],\n",
      "          [-0.0577,  0.0351, -0.0424, -0.0568, -0.0697,  0.0320,  0.0957,\n",
      "           -0.0073],\n",
      "          [-0.1191, -0.0459, -0.0097, -0.0873,  0.0766,  0.0379,  0.0189,\n",
      "            0.0402],\n",
      "          [ 0.0901,  0.0470,  0.0109, -0.0641,  0.0399,  0.0594, -0.0135,\n",
      "           -0.0332]]]])\n",
      "-------------------------------\n",
      "conv1.bias\n",
      "tensor([ 0.0118,  0.1029,  0.0266, -0.0206, -0.0477,  0.1168,  0.0801, -0.0084,\n",
      "         0.0021,  0.1238, -0.1064, -0.0813])\n",
      "-------------------------------\n",
      "conv1_normed.weight\n",
      "tensor([0.0320, 0.6742, 0.3010, 0.5535, 0.0673, 0.5600, 0.8589, 0.5748, 0.1349,\n",
      "        0.6393, 0.0226, 0.7197])\n",
      "-------------------------------\n",
      "conv1_normed.bias\n",
      "tensor([ 0.0175, -0.0025, -0.0018, -0.0365,  0.0224, -0.0278, -0.0309,  0.0406,\n",
      "        -0.0262, -0.0018,  0.0348, -0.0036])\n",
      "-------------------------------\n",
      "conv1_normed.running_mean\n",
      "tensor([-0.1553, -0.0655, -0.3876,  0.3850, -0.5141, -0.2572,  0.3779,  0.4278,\n",
      "         0.4652, -0.1201, -0.3389,  0.2207])\n",
      "-------------------------------\n",
      "conv1_normed.running_var\n",
      "tensor([0.0068, 0.0069, 0.0398, 0.0381, 0.0510, 0.0322, 0.0206, 0.0443, 0.0495,\n",
      "        0.0139, 0.0128, 0.0216])\n",
      "-------------------------------\n",
      "conv2.weight\n",
      "tensor([[[[ 0.0046,  0.0333, -0.0231,  ...,  0.0898, -0.0407,  0.0610],\n",
      "          [ 0.0062,  0.0844,  0.0268,  ...,  0.0027, -0.0113,  0.0265],\n",
      "          [ 0.0239,  0.0649, -0.0184,  ..., -0.0343,  0.0371,  0.0151],\n",
      "          ...,\n",
      "          [ 0.0010,  0.0697,  0.0549,  ...,  0.0848, -0.0023, -0.0505],\n",
      "          [ 0.0828,  0.1018,  0.0450,  ..., -0.0119, -0.0305,  0.0203],\n",
      "          [ 0.0759,  0.0402, -0.0448,  ...,  0.0354, -0.0165,  0.0617]],\n",
      "\n",
      "         [[ 0.0206,  0.0036, -0.1089,  ...,  0.0295,  0.0332,  0.0647],\n",
      "          [ 0.0175, -0.0332,  0.0586,  ...,  0.0229, -0.0242,  0.0047],\n",
      "          [ 0.0579, -0.0112, -0.0049,  ..., -0.0768, -0.0041,  0.0118],\n",
      "          ...,\n",
      "          [ 0.0230,  0.0216, -0.0015,  ...,  0.0312,  0.0206,  0.0081],\n",
      "          [ 0.0159,  0.0080, -0.0321,  ...,  0.0418,  0.0009, -0.0007],\n",
      "          [ 0.0042,  0.0484,  0.0052,  ...,  0.0262,  0.0195, -0.0369]],\n",
      "\n",
      "         [[-0.0273,  0.0020, -0.0503,  ...,  0.0544,  0.0892,  0.0767],\n",
      "          [-0.0237, -0.0104,  0.0042,  ...,  0.0524,  0.0358,  0.0684],\n",
      "          [-0.0154, -0.0591,  0.0161,  ...,  0.0293,  0.0215,  0.0299],\n",
      "          ...,\n",
      "          [ 0.0119, -0.0079,  0.0517,  ..., -0.0168,  0.0836,  0.0387],\n",
      "          [-0.0689,  0.0087,  0.0170,  ...,  0.0223,  0.0443, -0.0116],\n",
      "          [ 0.0049,  0.0618,  0.0491,  ...,  0.0651,  0.0438,  0.0504]],\n",
      "\n",
      "         ...,\n",
      "\n",
      "         [[-0.0057, -0.0026,  0.0843,  ...,  0.0256, -0.0518,  0.0420],\n",
      "          [-0.0019, -0.0072, -0.0418,  ...,  0.0332,  0.0339,  0.0041],\n",
      "          [-0.0298, -0.0226, -0.0304,  ...,  0.0005, -0.0258,  0.0108],\n",
      "          ...,\n",
      "          [-0.0043,  0.0048,  0.0461,  ..., -0.0207, -0.0143,  0.0225],\n",
      "          [-0.0571, -0.0367, -0.0262,  ...,  0.0357,  0.0109,  0.0025],\n",
      "          [ 0.0016,  0.0177, -0.0002,  ..., -0.0195, -0.0534,  0.0174]],\n",
      "\n",
      "         [[ 0.0168,  0.0087,  0.0074,  ..., -0.0165, -0.0222, -0.0283],\n",
      "          [-0.0276, -0.0211, -0.0085,  ..., -0.0494, -0.0115,  0.0201],\n",
      "          [ 0.0179, -0.0000,  0.0232,  ..., -0.0279, -0.0412,  0.0602],\n",
      "          ...,\n",
      "          [ 0.0056, -0.0286, -0.0125,  ..., -0.0069,  0.0165, -0.0321],\n",
      "          [ 0.0106, -0.0140,  0.0007,  ...,  0.0104, -0.0104, -0.0278],\n",
      "          [ 0.0238,  0.0306,  0.0113,  ..., -0.0147, -0.0243,  0.0040]],\n",
      "\n",
      "         [[-0.0684, -0.0062,  0.0647,  ..., -0.0276, -0.0177,  0.0294],\n",
      "          [-0.0202,  0.0314,  0.0700,  ..., -0.0069,  0.1098, -0.1127],\n",
      "          [-0.0233, -0.0509,  0.0227,  ...,  0.0206,  0.0364, -0.0547],\n",
      "          ...,\n",
      "          [-0.0527,  0.0236, -0.0009,  ..., -0.0614,  0.0221, -0.0075],\n",
      "          [-0.0370,  0.0173, -0.0060,  ..., -0.0770, -0.0298, -0.0031],\n",
      "          [-0.0123, -0.0243,  0.0032,  ..., -0.0213, -0.0565,  0.0169]]],\n",
      "\n",
      "\n",
      "        [[[-0.0005, -0.0453,  0.0445,  ...,  0.0078, -0.0230,  0.0310],\n",
      "          [-0.0074,  0.0798,  0.0408,  ...,  0.0103,  0.0117, -0.1171],\n",
      "          [ 0.0423,  0.0135,  0.0128,  ..., -0.0422, -0.0397,  0.0129],\n",
      "          ...,\n",
      "          [ 0.0114, -0.0040, -0.0165,  ..., -0.0591, -0.0115,  0.0454],\n",
      "          [ 0.0227,  0.0044, -0.0091,  ..., -0.0494, -0.0179,  0.0096],\n",
      "          [-0.0756, -0.0423,  0.0146,  ...,  0.0156,  0.0070,  0.0119]],\n",
      "\n",
      "         [[ 0.0423,  0.0551,  0.0565,  ...,  0.0484,  0.0731, -0.0192],\n",
      "          [-0.0121, -0.0049,  0.0891,  ...,  0.0258, -0.0077,  0.0082],\n",
      "          [ 0.0105, -0.0108,  0.0715,  ...,  0.0234,  0.0547,  0.0560],\n",
      "          ...,\n",
      "          [-0.0095,  0.0077, -0.0184,  ..., -0.0123, -0.0151, -0.0305],\n",
      "          [ 0.0324,  0.0147, -0.0209,  ...,  0.0033,  0.0149, -0.0458],\n",
      "          [-0.0111,  0.0614,  0.0180,  ...,  0.0298, -0.0288,  0.0363]],\n",
      "\n",
      "         [[ 0.0218,  0.0302, -0.0426,  ..., -0.0227,  0.0350,  0.0254],\n",
      "          [ 0.0512,  0.0370, -0.0022,  ...,  0.0624,  0.0527, -0.0698],\n",
      "          [ 0.0114,  0.0022,  0.0287,  ...,  0.0007, -0.0196,  0.0375],\n",
      "          ...,\n",
      "          [ 0.0094, -0.0106,  0.0344,  ...,  0.0102,  0.0374, -0.0484],\n",
      "          [ 0.0485,  0.0113,  0.0635,  ...,  0.0198,  0.0136,  0.0241],\n",
      "          [-0.0375, -0.0314,  0.0235,  ...,  0.0622,  0.0273,  0.0703]],\n",
      "\n",
      "         ...,\n",
      "\n",
      "         [[ 0.0073,  0.0134,  0.0585,  ..., -0.0370, -0.0065,  0.0250],\n",
      "          [-0.0267,  0.0453,  0.0330,  ..., -0.0010, -0.0104,  0.0304],\n",
      "          [ 0.0338,  0.0649, -0.0488,  ..., -0.0594, -0.0156, -0.0013],\n",
      "          ...,\n",
      "          [ 0.0541,  0.1143,  0.0179,  ...,  0.0114, -0.0341,  0.0505],\n",
      "          [ 0.0431,  0.0127, -0.0467,  ..., -0.0384, -0.0705,  0.0316],\n",
      "          [ 0.0272,  0.0336, -0.0346,  ...,  0.0196,  0.0000,  0.0360]],\n",
      "\n",
      "         [[-0.0135, -0.0319, -0.0162,  ...,  0.0407, -0.0462,  0.0496],\n",
      "          [-0.0200, -0.0552,  0.0521,  ...,  0.0114,  0.0234,  0.0022],\n",
      "          [ 0.0064, -0.0213, -0.0192,  ..., -0.0079, -0.0705,  0.0240],\n",
      "          ...,\n",
      "          [-0.0051,  0.0022, -0.0587,  ..., -0.0275, -0.0749, -0.0346],\n",
      "          [-0.0264, -0.0264, -0.0104,  ..., -0.0193, -0.0371, -0.0126],\n",
      "          [ 0.0289, -0.0268,  0.0560,  ...,  0.0163, -0.0443, -0.0058]],\n",
      "\n",
      "         [[ 0.0112, -0.0127, -0.0336,  ...,  0.0099,  0.0596,  0.0669],\n",
      "          [ 0.0106, -0.0062,  0.0419,  ..., -0.0200, -0.0725, -0.0409],\n",
      "          [-0.0432,  0.0302,  0.0293,  ...,  0.0535,  0.0074,  0.0165],\n",
      "          ...,\n",
      "          [ 0.0070,  0.0037,  0.0256,  ..., -0.0100, -0.0673,  0.0161],\n",
      "          [ 0.0180,  0.0003,  0.0158,  ..., -0.0198,  0.0076, -0.0475],\n",
      "          [-0.0012,  0.1080,  0.0505,  ..., -0.0023, -0.0568, -0.0521]]],\n",
      "\n",
      "\n",
      "        [[[ 0.0268, -0.0665, -0.0191,  ..., -0.0056,  0.0044, -0.0427],\n",
      "          [-0.0187,  0.0364, -0.0388,  ...,  0.0172, -0.0407,  0.0125],\n",
      "          [ 0.0189, -0.0139,  0.0060,  ..., -0.0591, -0.0212,  0.0305],\n",
      "          ...,\n",
      "          [ 0.0433,  0.0542,  0.0396,  ..., -0.0003,  0.0470,  0.0011],\n",
      "          [-0.0068, -0.0145, -0.0392,  ...,  0.0010, -0.0075,  0.0654],\n",
      "          [ 0.0387, -0.0370,  0.0301,  ...,  0.0681,  0.0849,  0.0621]],\n",
      "\n",
      "         [[ 0.0006,  0.0244, -0.0291,  ..., -0.0420,  0.0035, -0.0147],\n",
      "          [ 0.0221,  0.0057, -0.0941,  ..., -0.0100,  0.0215, -0.0218],\n",
      "          [-0.0773,  0.0278,  0.0053,  ..., -0.0923, -0.0262, -0.0584],\n",
      "          ...,\n",
      "          [-0.0056,  0.0041, -0.0852,  ..., -0.0074,  0.0005,  0.0132],\n",
      "          [-0.0455, -0.0475, -0.0360,  ..., -0.0697, -0.0159, -0.0309],\n",
      "          [-0.0209, -0.0772,  0.0132,  ..., -0.0649, -0.0081, -0.0193]],\n",
      "\n",
      "         [[ 0.0233, -0.0084,  0.0074,  ..., -0.0545,  0.0451,  0.0375],\n",
      "          [ 0.0313,  0.0678,  0.0781,  ..., -0.0162,  0.0030,  0.0306],\n",
      "          [-0.0221,  0.0489,  0.0266,  ...,  0.0548,  0.0799, -0.0331],\n",
      "          ...,\n",
      "          [-0.0167, -0.0162,  0.0134,  ..., -0.0294, -0.0020,  0.0321],\n",
      "          [-0.0328, -0.0258, -0.0135,  ...,  0.0022,  0.0243, -0.0155],\n",
      "          [ 0.0495,  0.0201, -0.0600,  ...,  0.0023,  0.0283,  0.0317]],\n",
      "\n",
      "         ...,\n",
      "\n",
      "         [[-0.0070, -0.0298,  0.0317,  ..., -0.0315,  0.0002,  0.0322],\n",
      "          [-0.0101, -0.0385, -0.0199,  ..., -0.0331,  0.0082,  0.0233],\n",
      "          [-0.0276, -0.0337, -0.0085,  ...,  0.0034,  0.0632, -0.0256],\n",
      "          ...,\n",
      "          [ 0.0413, -0.0081,  0.0228,  ..., -0.0637, -0.0052,  0.0016],\n",
      "          [ 0.1157,  0.0665, -0.0119,  ..., -0.0207, -0.0404, -0.0415],\n",
      "          [-0.0077, -0.0152,  0.0600,  ...,  0.0227, -0.0082, -0.0235]],\n",
      "\n",
      "         [[-0.0397,  0.0832,  0.0144,  ..., -0.0104, -0.0068, -0.0192],\n",
      "          [-0.0604,  0.0202,  0.0057,  ..., -0.0140, -0.0832,  0.0202],\n",
      "          [-0.0157, -0.0204,  0.0213,  ...,  0.0134, -0.0331, -0.0482],\n",
      "          ...,\n",
      "          [ 0.0007,  0.0662,  0.0301,  ..., -0.0267, -0.0339,  0.0257],\n",
      "          [ 0.0140,  0.0267,  0.0215,  ...,  0.0308, -0.0712, -0.0066],\n",
      "          [-0.0286, -0.0033,  0.0138,  ..., -0.0075,  0.0373,  0.0041]],\n",
      "\n",
      "         [[-0.0433,  0.0017,  0.0563,  ...,  0.0892,  0.0236,  0.0502],\n",
      "          [ 0.0486, -0.0533,  0.0011,  ...,  0.0448,  0.0812, -0.0001],\n",
      "          [ 0.0034, -0.0436, -0.0109,  ..., -0.0045, -0.0187, -0.0513],\n",
      "          ...,\n",
      "          [ 0.0070, -0.0241,  0.0496,  ...,  0.0159,  0.0235, -0.0248],\n",
      "          [-0.0146, -0.0276,  0.0252,  ...,  0.0597,  0.0377,  0.0136],\n",
      "          [-0.0182, -0.0183, -0.0501,  ..., -0.0154, -0.0226,  0.0153]]],\n",
      "\n",
      "\n",
      "        ...,\n",
      "\n",
      "\n",
      "        [[[-0.0333,  0.0100, -0.0054,  ..., -0.0156,  0.0254,  0.0132],\n",
      "          [ 0.0071, -0.0908, -0.0274,  ...,  0.0340, -0.0216, -0.0565],\n",
      "          [-0.0043,  0.0038, -0.0419,  ..., -0.0203, -0.0201, -0.0027],\n",
      "          ...,\n",
      "          [-0.0634, -0.0438,  0.0076,  ..., -0.0135,  0.0382,  0.0162],\n",
      "          [-0.0526, -0.0185, -0.0284,  ..., -0.0572, -0.0774, -0.0040],\n",
      "          [-0.0067, -0.0332,  0.0259,  ..., -0.0275, -0.0170, -0.0384]],\n",
      "\n",
      "         [[ 0.0313, -0.0937, -0.0019,  ..., -0.0315, -0.0072, -0.0075],\n",
      "          [-0.0444, -0.0100, -0.0274,  ...,  0.0569, -0.0333,  0.0277],\n",
      "          [-0.0823,  0.0140,  0.0151,  ...,  0.0292, -0.0318,  0.0677],\n",
      "          ...,\n",
      "          [-0.0643,  0.0080,  0.0351,  ..., -0.0271, -0.0132, -0.0001],\n",
      "          [ 0.0357, -0.0156, -0.0221,  ...,  0.0389, -0.0480,  0.0171],\n",
      "          [ 0.0683, -0.0026,  0.0771,  ..., -0.0120,  0.0097, -0.0585]],\n",
      "\n",
      "         [[-0.0524,  0.0124, -0.0086,  ..., -0.0283, -0.0470, -0.0207],\n",
      "          [-0.0121, -0.0234,  0.0882,  ..., -0.0517, -0.0066,  0.0314],\n",
      "          [ 0.0149,  0.0399, -0.0224,  ..., -0.0161, -0.0254,  0.0598],\n",
      "          ...,\n",
      "          [-0.0342, -0.0402, -0.0557,  ...,  0.0219, -0.0598,  0.0380],\n",
      "          [-0.0101, -0.0333,  0.0110,  ...,  0.0453, -0.0055, -0.0049],\n",
      "          [ 0.0609, -0.0416, -0.0272,  ..., -0.0158, -0.0040, -0.0003]],\n",
      "\n",
      "         ...,\n",
      "\n",
      "         [[-0.0263, -0.0028, -0.0255,  ..., -0.0516,  0.0277,  0.0078],\n",
      "          [-0.0498,  0.0124,  0.0332,  ..., -0.0613,  0.0224, -0.0141],\n",
      "          [-0.0315,  0.0148,  0.0586,  ...,  0.0151, -0.0536, -0.0409],\n",
      "          ...,\n",
      "          [ 0.0189,  0.0525,  0.0251,  ...,  0.0180,  0.0095, -0.0394],\n",
      "          [-0.0427, -0.0483,  0.0052,  ..., -0.0093,  0.0374, -0.0345],\n",
      "          [-0.0377,  0.0172,  0.0260,  ...,  0.0646,  0.0578, -0.0093]],\n",
      "\n",
      "         [[-0.0310,  0.0033,  0.0150,  ..., -0.0306, -0.0541, -0.0566],\n",
      "          [-0.0478, -0.0551,  0.0285,  ...,  0.0153, -0.0567, -0.0050],\n",
      "          [-0.0133, -0.0674,  0.0095,  ...,  0.0312, -0.0122, -0.0432],\n",
      "          ...,\n",
      "          [ 0.0898,  0.0210, -0.0221,  ...,  0.0105, -0.0435, -0.0064],\n",
      "          [-0.0447,  0.0534, -0.0603,  ..., -0.0126, -0.0202, -0.0428],\n",
      "          [-0.0185, -0.0758, -0.0484,  ..., -0.0269, -0.0115, -0.0310]],\n",
      "\n",
      "         [[ 0.0182, -0.0217,  0.0122,  ...,  0.0144,  0.0006, -0.0210],\n",
      "          [-0.0406, -0.0338,  0.0087,  ..., -0.0637, -0.0310, -0.0034],\n",
      "          [ 0.0273, -0.0298,  0.0425,  ..., -0.0023,  0.0557, -0.0121],\n",
      "          ...,\n",
      "          [ 0.0706,  0.0399, -0.0146,  ..., -0.0528, -0.0324, -0.0193],\n",
      "          [-0.0064, -0.0631,  0.0117,  ...,  0.0087,  0.0153,  0.0336],\n",
      "          [-0.0334, -0.0786, -0.0356,  ..., -0.0319,  0.0159, -0.0836]]],\n",
      "\n",
      "\n",
      "        [[[-0.0454,  0.0499, -0.0045,  ...,  0.0419,  0.0284,  0.0427],\n",
      "          [ 0.0460, -0.0010,  0.0278,  ..., -0.0113, -0.0190, -0.0359],\n",
      "          [-0.0207,  0.0259,  0.0408,  ..., -0.0211,  0.0322,  0.0129],\n",
      "          ...,\n",
      "          [-0.0088, -0.0286,  0.0513,  ...,  0.0237, -0.0216,  0.0089],\n",
      "          [-0.0477, -0.0173,  0.0385,  ...,  0.0367,  0.0522, -0.0354],\n",
      "          [-0.0143,  0.0034,  0.0016,  ...,  0.0090,  0.0558,  0.0050]],\n",
      "\n",
      "         [[ 0.0521,  0.0398, -0.1042,  ..., -0.0041,  0.0059,  0.0076],\n",
      "          [-0.0294,  0.0321, -0.0312,  ...,  0.0225,  0.0512, -0.0603],\n",
      "          [-0.1185,  0.0255,  0.0074,  ...,  0.0369,  0.0383,  0.0647],\n",
      "          ...,\n",
      "          [-0.0354, -0.1161,  0.0195,  ...,  0.0013, -0.0710, -0.0077],\n",
      "          [-0.0503, -0.0584,  0.0238,  ..., -0.0093, -0.0674,  0.0032],\n",
      "          [-0.0091, -0.0239, -0.0197,  ...,  0.0273, -0.0211, -0.0024]],\n",
      "\n",
      "         [[ 0.0968,  0.0294, -0.0186,  ..., -0.0407, -0.0748, -0.0587],\n",
      "          [ 0.0296,  0.0150,  0.0195,  ...,  0.0288,  0.0253, -0.0065],\n",
      "          [ 0.0559,  0.0062,  0.0910,  ...,  0.0699,  0.0206, -0.0281],\n",
      "          ...,\n",
      "          [ 0.0876,  0.0479,  0.0571,  ...,  0.0246,  0.0047, -0.0312],\n",
      "          [ 0.0692, -0.0079,  0.0785,  ...,  0.0673, -0.0012,  0.0720],\n",
      "          [ 0.0164,  0.0009,  0.0086,  ..., -0.0002, -0.0035,  0.0239]],\n",
      "\n",
      "         ...,\n",
      "\n",
      "         [[-0.0181,  0.0223,  0.0409,  ...,  0.0735, -0.0027,  0.0048],\n",
      "          [-0.0293, -0.0140, -0.0017,  ...,  0.0261, -0.0330, -0.0248],\n",
      "          [-0.0505, -0.0404, -0.0398,  ..., -0.0225, -0.0253, -0.0706],\n",
      "          ...,\n",
      "          [-0.0065, -0.0131,  0.0337,  ..., -0.0652, -0.0224,  0.0098],\n",
      "          [ 0.0463,  0.0448,  0.0422,  ...,  0.0296,  0.0271,  0.0794],\n",
      "          [ 0.0530,  0.0154,  0.0073,  ..., -0.0206, -0.0037,  0.0012]],\n",
      "\n",
      "         [[-0.0167,  0.0574,  0.0495,  ..., -0.0345,  0.0970,  0.0057],\n",
      "          [-0.0366,  0.0529, -0.0019,  ...,  0.0212,  0.0987,  0.0734],\n",
      "          [-0.0675, -0.0169, -0.0142,  ...,  0.0147,  0.0582,  0.0398],\n",
      "          ...,\n",
      "          [-0.0371, -0.0842,  0.0011,  ...,  0.0325,  0.0286, -0.0279],\n",
      "          [-0.0028, -0.0485,  0.0051,  ...,  0.1073,  0.0046,  0.0725],\n",
      "          [-0.0684,  0.0335, -0.0342,  ...,  0.0529,  0.0003,  0.0437]],\n",
      "\n",
      "         [[ 0.0693, -0.0769,  0.0315,  ..., -0.0071, -0.0801, -0.0306],\n",
      "          [-0.0223, -0.0749, -0.1042,  ..., -0.0474, -0.0468, -0.0367],\n",
      "          [ 0.0100, -0.0405, -0.0162,  ..., -0.0396, -0.0335, -0.0847],\n",
      "          ...,\n",
      "          [-0.0644,  0.0344, -0.0233,  ..., -0.0579, -0.0038, -0.0225],\n",
      "          [ 0.0145,  0.0001, -0.0181,  ..., -0.0316, -0.0020, -0.0166],\n",
      "          [-0.0091, -0.0179,  0.0084,  ..., -0.0230, -0.0180,  0.0084]]],\n",
      "\n",
      "\n",
      "        [[[ 0.0827,  0.0314,  0.0103,  ..., -0.0164,  0.0306,  0.0282],\n",
      "          [ 0.0376, -0.0081, -0.0292,  ..., -0.0240,  0.0160,  0.0362],\n",
      "          [ 0.0075,  0.0263, -0.0204,  ...,  0.0036, -0.0172,  0.0107],\n",
      "          ...,\n",
      "          [ 0.0783,  0.0043,  0.0243,  ..., -0.0013,  0.0457,  0.0112],\n",
      "          [-0.0134,  0.0012, -0.0432,  ...,  0.0181,  0.1073,  0.0063],\n",
      "          [ 0.0154,  0.0376, -0.0050,  ...,  0.0010,  0.0025, -0.0156]],\n",
      "\n",
      "         [[-0.0821, -0.0049, -0.0625,  ..., -0.0070,  0.0418,  0.0223],\n",
      "          [-0.0483,  0.0564,  0.0060,  ..., -0.0485,  0.0447, -0.0111],\n",
      "          [-0.0084, -0.0055, -0.0347,  ..., -0.0290,  0.0032,  0.0252],\n",
      "          ...,\n",
      "          [ 0.0742, -0.0001,  0.0924,  ..., -0.0048,  0.0996,  0.0146],\n",
      "          [ 0.0551, -0.0488,  0.0232,  ...,  0.0130,  0.0641, -0.0296],\n",
      "          [ 0.0051,  0.0380,  0.0724,  ..., -0.0063,  0.0497,  0.0148]],\n",
      "\n",
      "         [[-0.0418,  0.0047,  0.0247,  ..., -0.0096,  0.0211,  0.0732],\n",
      "          [ 0.0337, -0.0093,  0.0058,  ..., -0.0099, -0.0394,  0.0164],\n",
      "          [ 0.0470,  0.0290, -0.0003,  ..., -0.0072,  0.0664,  0.0614],\n",
      "          ...,\n",
      "          [-0.0209,  0.0061,  0.0061,  ..., -0.0105,  0.0241,  0.0267],\n",
      "          [-0.0465, -0.0298, -0.0073,  ...,  0.0347, -0.0034,  0.0064],\n",
      "          [ 0.0642,  0.0328, -0.0050,  ...,  0.0485,  0.0455,  0.0110]],\n",
      "\n",
      "         ...,\n",
      "\n",
      "         [[-0.0680, -0.0829, -0.0437,  ..., -0.0221, -0.0772, -0.0993],\n",
      "          [-0.0653, -0.0033, -0.0640,  ...,  0.0025, -0.0677, -0.0203],\n",
      "          [-0.0315,  0.0101, -0.0426,  ..., -0.0368, -0.0505, -0.0462],\n",
      "          ...,\n",
      "          [-0.0388, -0.0184, -0.0186,  ..., -0.0224, -0.0186,  0.0915],\n",
      "          [ 0.0344, -0.0251, -0.0113,  ...,  0.0105, -0.0092,  0.0080],\n",
      "          [ 0.0503,  0.0132, -0.0760,  ..., -0.0264, -0.0223,  0.0077]],\n",
      "\n",
      "         [[-0.0220, -0.0252,  0.0549,  ...,  0.0031, -0.0467, -0.0335],\n",
      "          [ 0.0184, -0.0351,  0.0206,  ...,  0.0239,  0.0232, -0.0200],\n",
      "          [ 0.0123,  0.0033,  0.0628,  ..., -0.0029,  0.0176, -0.0201],\n",
      "          ...,\n",
      "          [-0.0243, -0.0667, -0.0037,  ..., -0.0021,  0.0114, -0.0646],\n",
      "          [-0.0177,  0.0426, -0.0604,  ..., -0.0240, -0.0626,  0.1127],\n",
      "          [-0.0193,  0.0562,  0.0603,  ...,  0.0127, -0.0122,  0.0605]],\n",
      "\n",
      "         [[-0.0038, -0.0184,  0.0217,  ...,  0.0164, -0.0204, -0.0087],\n",
      "          [-0.0202,  0.0598, -0.0109,  ...,  0.0032,  0.0168, -0.0727],\n",
      "          [-0.0222,  0.0323, -0.0698,  ..., -0.0104, -0.0135, -0.0403],\n",
      "          ...,\n",
      "          [-0.0138, -0.0144, -0.0205,  ..., -0.0350, -0.0214, -0.0441],\n",
      "          [-0.0142,  0.0731, -0.0495,  ..., -0.0005,  0.0081, -0.0402],\n",
      "          [-0.0515, -0.0002,  0.0377,  ..., -0.0216, -0.0118, -0.0312]]]])\n",
      "-------------------------------\n",
      "conv2.bias\n",
      "tensor([-0.0282,  0.0537,  0.0221, -0.0259, -0.0105,  0.0266,  0.0056, -0.0360,\n",
      "         0.0601,  0.0485, -0.0241, -0.0385])\n",
      "-------------------------------\n",
      "conv2_normed.weight\n",
      "tensor([0.5748, 0.7395, 0.6426, 0.7903, 0.4024, 0.4845, 0.5491, 0.9710, 0.8106,\n",
      "        0.9498, 0.8429, 0.6160])\n",
      "-------------------------------\n",
      "conv2_normed.bias\n",
      "tensor([ 0.0332,  0.0103, -0.0230,  0.0239,  0.0257, -0.0234,  0.0015, -0.0228,\n",
      "        -0.0009, -0.0553,  0.0013,  0.0217])\n",
      "-------------------------------\n",
      "conv2_normed.running_mean\n",
      "tensor([-0.1511, -0.0513,  0.0879, -0.0924, -0.0717,  0.0193, -0.0458, -0.0391,\n",
      "        -0.0630, -0.0266,  0.0179, -0.0361])\n",
      "-------------------------------\n",
      "conv2_normed.running_var\n",
      "tensor([2.2982, 3.6790, 7.5508, 1.5593, 1.4588, 3.5827, 0.9363, 1.6961, 4.2227,\n",
      "        5.6783, 0.9941, 4.9203])\n",
      "-------------------------------\n",
      "conv3.weight\n",
      "tensor([[[[ 0.0159, -0.0822, -0.0095, -0.0100,  0.1093,  0.0726],\n",
      "          [-0.0344,  0.0622, -0.0098,  0.0347,  0.0442,  0.0686],\n",
      "          [-0.0269,  0.0436,  0.0113,  0.0529, -0.0786, -0.0226],\n",
      "          [ 0.0174, -0.0179,  0.0578,  0.0481, -0.0288,  0.0816],\n",
      "          [ 0.0640, -0.0063,  0.0205, -0.0944,  0.0409,  0.0118],\n",
      "          [ 0.0853, -0.0397,  0.0706,  0.0400,  0.0778, -0.0062]],\n",
      "\n",
      "         [[ 0.0693,  0.0392, -0.0644, -0.0200, -0.0152,  0.0292],\n",
      "          [ 0.0607,  0.0038,  0.0698, -0.0412,  0.0000,  0.0202],\n",
      "          [-0.0608,  0.0477,  0.0175,  0.0213, -0.0418, -0.0358],\n",
      "          [-0.0125,  0.0115, -0.0154,  0.0430, -0.0206,  0.0013],\n",
      "          [-0.0194, -0.0005, -0.0000,  0.0555,  0.1158, -0.0396],\n",
      "          [-0.0044, -0.1129, -0.0238, -0.0503,  0.0694,  0.0651]],\n",
      "\n",
      "         [[-0.0126, -0.0724,  0.0412,  0.0389, -0.0924,  0.0471],\n",
      "          [ 0.0337, -0.0238,  0.0092, -0.0191, -0.0264,  0.0451],\n",
      "          [ 0.0649,  0.0146,  0.0020,  0.0196,  0.0048,  0.0279],\n",
      "          [-0.0050,  0.0580, -0.0103,  0.0216,  0.0358, -0.1023],\n",
      "          [-0.0074,  0.1192,  0.0209, -0.0391, -0.0289,  0.0381],\n",
      "          [-0.0743,  0.0911,  0.0777, -0.0617, -0.0621,  0.0492]],\n",
      "\n",
      "         ...,\n",
      "\n",
      "         [[-0.0158,  0.0613,  0.1083,  0.0646,  0.1277,  0.0116],\n",
      "          [ 0.0582, -0.0649, -0.0405,  0.0385,  0.0303,  0.0162],\n",
      "          [ 0.0629,  0.0167, -0.0315, -0.0116,  0.0702,  0.0300],\n",
      "          [ 0.0488,  0.0007,  0.0152,  0.0555,  0.0505, -0.0987],\n",
      "          [-0.0901,  0.0083, -0.0041,  0.0856,  0.0666,  0.0357],\n",
      "          [-0.0402,  0.0190,  0.0076,  0.0223,  0.0064,  0.0154]],\n",
      "\n",
      "         [[-0.1334, -0.1074, -0.1079,  0.1122,  0.0683, -0.0545],\n",
      "          [-0.0735,  0.0342, -0.0211, -0.0018,  0.1055,  0.0118],\n",
      "          [-0.1464, -0.0169, -0.0934, -0.0506,  0.0824, -0.0401],\n",
      "          [-0.0722, -0.0250, -0.1106,  0.0152, -0.0286,  0.0801],\n",
      "          [-0.0711, -0.0665,  0.0339, -0.1171,  0.0086, -0.0310],\n",
      "          [-0.0551, -0.1002, -0.0026,  0.0101,  0.0024,  0.0407]],\n",
      "\n",
      "         [[ 0.0702, -0.0075, -0.0236, -0.0489,  0.0531, -0.0679],\n",
      "          [-0.1006,  0.0184, -0.0561,  0.0612, -0.0363, -0.0447],\n",
      "          [ 0.0059, -0.0074, -0.0522,  0.0083, -0.1146,  0.0080],\n",
      "          [-0.0295, -0.0312,  0.0859, -0.0054, -0.0228, -0.0261],\n",
      "          [-0.0094, -0.0162,  0.0232, -0.1111, -0.0642, -0.0106],\n",
      "          [ 0.0055,  0.1084, -0.0451, -0.0397,  0.0294, -0.0869]]],\n",
      "\n",
      "\n",
      "        [[[ 0.0882, -0.0169,  0.0825, -0.0243, -0.0690,  0.0457],\n",
      "          [ 0.0555,  0.0105,  0.0008,  0.1289, -0.0016, -0.0526],\n",
      "          [ 0.0263, -0.0483, -0.0041,  0.0844, -0.0453,  0.0297],\n",
      "          [-0.0479,  0.0160,  0.0572,  0.0346,  0.1482,  0.0006],\n",
      "          [-0.0041,  0.0268,  0.0097,  0.0070,  0.0560, -0.0523],\n",
      "          [ 0.0639,  0.0296, -0.1015,  0.0615, -0.0750,  0.0165]],\n",
      "\n",
      "         [[-0.1303,  0.0663, -0.0724, -0.0290,  0.0368,  0.0019],\n",
      "          [-0.0522, -0.0745, -0.0729, -0.0383,  0.0599, -0.0558],\n",
      "          [-0.0885,  0.0278, -0.0180, -0.0758, -0.0673,  0.0050],\n",
      "          [-0.0036, -0.0309, -0.1335,  0.1109, -0.0865, -0.0641],\n",
      "          [-0.1466, -0.0443, -0.1281,  0.0753, -0.0538,  0.0515],\n",
      "          [-0.0732, -0.0427, -0.0488,  0.0168, -0.0739, -0.0246]],\n",
      "\n",
      "         [[ 0.0015, -0.0040, -0.0683, -0.0788, -0.0027, -0.0544],\n",
      "          [ 0.0029,  0.0289,  0.0958,  0.0179,  0.1197,  0.0883],\n",
      "          [ 0.0312,  0.0903,  0.0996,  0.0227,  0.0543,  0.0714],\n",
      "          [ 0.1259,  0.1231, -0.0204,  0.0261,  0.0930,  0.0720],\n",
      "          [ 0.0191,  0.0804, -0.0029, -0.0320,  0.0437,  0.0421],\n",
      "          [ 0.0494,  0.0188,  0.0717,  0.0412,  0.1105,  0.0045]],\n",
      "\n",
      "         ...,\n",
      "\n",
      "         [[ 0.0248,  0.0480,  0.0002,  0.0268, -0.0161, -0.0043],\n",
      "          [-0.0030,  0.0048,  0.0387, -0.0486,  0.0581,  0.0207],\n",
      "          [-0.0406, -0.0736, -0.0163, -0.0545, -0.0810,  0.0228],\n",
      "          [-0.0284, -0.0285,  0.0094, -0.0134,  0.0128, -0.0971],\n",
      "          [-0.0780,  0.0007,  0.0196,  0.0377, -0.0264, -0.0431],\n",
      "          [-0.0909, -0.0808,  0.0799,  0.0133, -0.0075, -0.0392]],\n",
      "\n",
      "         [[-0.0582,  0.0524,  0.1026,  0.0176,  0.0136,  0.0583],\n",
      "          [ 0.0693,  0.0568, -0.0573, -0.0072,  0.0422, -0.0101],\n",
      "          [ 0.0784,  0.0221,  0.0964, -0.0402,  0.0237,  0.1188],\n",
      "          [ 0.0723, -0.0826, -0.0087, -0.0241, -0.0126,  0.0029],\n",
      "          [ 0.0052,  0.0569,  0.0334, -0.0081,  0.0317,  0.0151],\n",
      "          [ 0.0970,  0.0011,  0.0346,  0.0576,  0.0368, -0.0073]],\n",
      "\n",
      "         [[-0.0240, -0.0144,  0.0639,  0.0344, -0.0549,  0.0176],\n",
      "          [ 0.0202, -0.1215,  0.0135, -0.0767, -0.0222, -0.0919],\n",
      "          [-0.0014, -0.0439,  0.0149, -0.0262, -0.0609,  0.0277],\n",
      "          [-0.0320,  0.0206, -0.0624, -0.0644, -0.0287,  0.0572],\n",
      "          [-0.0181, -0.0830, -0.0630, -0.0482,  0.0002, -0.0233],\n",
      "          [ 0.0771, -0.0053, -0.0642, -0.0656, -0.0330, -0.0250]]],\n",
      "\n",
      "\n",
      "        [[[-0.0714, -0.0678,  0.0098, -0.0126, -0.0631, -0.0345],\n",
      "          [-0.0453, -0.0475,  0.0264,  0.0200, -0.0797,  0.0814],\n",
      "          [-0.0193, -0.0166, -0.0633, -0.0798, -0.0277, -0.0537],\n",
      "          [-0.0668,  0.0268, -0.0499,  0.0407, -0.0415, -0.1170],\n",
      "          [ 0.0559,  0.0022, -0.0055, -0.0880, -0.0939, -0.0810],\n",
      "          [-0.0196, -0.0976, -0.0030,  0.0695, -0.0716, -0.0388]],\n",
      "\n",
      "         [[ 0.0610,  0.0411,  0.0578,  0.0620,  0.0329, -0.0416],\n",
      "          [-0.0104, -0.0456,  0.0519,  0.0574,  0.0566,  0.0487],\n",
      "          [-0.0268, -0.0557,  0.0302, -0.0701, -0.0273,  0.1082],\n",
      "          [-0.0343,  0.0529, -0.0229,  0.0653,  0.1200,  0.0908],\n",
      "          [ 0.0019,  0.0032,  0.0391, -0.0654, -0.0412,  0.0382],\n",
      "          [ 0.0765, -0.0114, -0.0126,  0.0291, -0.0043,  0.0895]],\n",
      "\n",
      "         [[ 0.0123,  0.0105,  0.0907,  0.0192, -0.0018, -0.0186],\n",
      "          [ 0.0352, -0.0706,  0.0779,  0.0915, -0.0412,  0.0615],\n",
      "          [-0.0017, -0.0101,  0.0136,  0.0523,  0.0998, -0.0039],\n",
      "          [ 0.0778,  0.0509,  0.0116, -0.0099, -0.0722,  0.0280],\n",
      "          [ 0.0166, -0.0779, -0.0143, -0.0651,  0.0012,  0.0276],\n",
      "          [ 0.0038,  0.0706,  0.0257,  0.0459, -0.0072, -0.0541]],\n",
      "\n",
      "         ...,\n",
      "\n",
      "         [[ 0.0066,  0.0601, -0.0715,  0.0633, -0.0256,  0.0147],\n",
      "          [ 0.0133,  0.0718, -0.0636,  0.0114, -0.0547, -0.0171],\n",
      "          [-0.1163,  0.0248,  0.0962,  0.0062, -0.0057, -0.0662],\n",
      "          [-0.0828, -0.0394, -0.0392, -0.0397,  0.0374, -0.0380],\n",
      "          [ 0.0458, -0.0457, -0.0641,  0.0247, -0.0249,  0.0285],\n",
      "          [-0.0357, -0.0318, -0.0290,  0.0301, -0.0949,  0.0191]],\n",
      "\n",
      "         [[ 0.0099,  0.0166, -0.0597, -0.0430, -0.0613, -0.0192],\n",
      "          [ 0.0479,  0.0455, -0.0364, -0.0026,  0.0469,  0.0883],\n",
      "          [ 0.0215, -0.0383,  0.0017, -0.0453,  0.0054,  0.0336],\n",
      "          [ 0.1533, -0.0242,  0.0219,  0.0163,  0.0355, -0.1163],\n",
      "          [ 0.0344, -0.0489, -0.0692, -0.0092, -0.0188, -0.0060],\n",
      "          [ 0.0046, -0.0668, -0.0873, -0.0488,  0.0022,  0.0021]],\n",
      "\n",
      "         [[ 0.0360, -0.0115, -0.0226, -0.0341, -0.0488,  0.0669],\n",
      "          [ 0.0364,  0.0695,  0.0449,  0.0052,  0.0002, -0.0799],\n",
      "          [ 0.1112,  0.0616, -0.0471, -0.0392, -0.0266,  0.0599],\n",
      "          [-0.0241,  0.0858,  0.0335, -0.0428, -0.0243,  0.0048],\n",
      "          [ 0.0043, -0.0128,  0.1028, -0.0590,  0.0660,  0.0292],\n",
      "          [ 0.0629,  0.0177,  0.0166,  0.0920,  0.0492, -0.0103]]],\n",
      "\n",
      "\n",
      "        ...,\n",
      "\n",
      "\n",
      "        [[[ 0.0169, -0.0729,  0.0862, -0.0553, -0.0501,  0.0084],\n",
      "          [-0.0058, -0.0619,  0.0049, -0.0117, -0.0238,  0.0192],\n",
      "          [ 0.0128,  0.0473,  0.0148, -0.0584,  0.0698,  0.0086],\n",
      "          [ 0.1149, -0.0206,  0.0263,  0.0520,  0.0261,  0.0590],\n",
      "          [ 0.1520,  0.0134,  0.0402, -0.0981,  0.0170,  0.0544],\n",
      "          [ 0.0247, -0.0127,  0.0507, -0.0040, -0.0057,  0.0623]],\n",
      "\n",
      "         [[-0.0167, -0.0394, -0.0225, -0.0328,  0.0187,  0.0275],\n",
      "          [ 0.0802,  0.0426, -0.0286,  0.0011,  0.0979, -0.0461],\n",
      "          [-0.0536, -0.0351, -0.0002, -0.0307,  0.0124,  0.0536],\n",
      "          [ 0.0531, -0.0672,  0.0095,  0.0075,  0.0452, -0.0029],\n",
      "          [ 0.0316, -0.0701,  0.1140,  0.0364,  0.0560, -0.0135],\n",
      "          [ 0.0740, -0.0009,  0.0637,  0.0538,  0.0112,  0.0027]],\n",
      "\n",
      "         [[ 0.0320, -0.0635, -0.0574, -0.0257,  0.0298, -0.0292],\n",
      "          [ 0.0259, -0.0430, -0.0343,  0.0073, -0.0534,  0.0107],\n",
      "          [ 0.0351,  0.0020, -0.0491,  0.0610,  0.0782,  0.0803],\n",
      "          [ 0.0491,  0.1215, -0.0581,  0.0032,  0.0038,  0.0083],\n",
      "          [ 0.0339, -0.0104,  0.0165, -0.0367, -0.0039, -0.0287],\n",
      "          [-0.0062,  0.0694, -0.0697, -0.0158, -0.0879, -0.0750]],\n",
      "\n",
      "         ...,\n",
      "\n",
      "         [[-0.0997, -0.0508,  0.0390, -0.0638, -0.0357, -0.0904],\n",
      "          [-0.0249,  0.0218, -0.0330, -0.0330, -0.0997, -0.1010],\n",
      "          [-0.0380, -0.0212, -0.0073, -0.0246, -0.0174, -0.1684],\n",
      "          [-0.0536, -0.0179, -0.0616, -0.0453, -0.0171,  0.0288],\n",
      "          [-0.0747, -0.0957,  0.1057, -0.0765, -0.1382,  0.0206],\n",
      "          [ 0.0240,  0.0482, -0.0679, -0.1183, -0.0526, -0.0823]],\n",
      "\n",
      "         [[ 0.0152,  0.0107, -0.0104,  0.0315, -0.0499,  0.0871],\n",
      "          [ 0.0916,  0.0390,  0.0586,  0.0509,  0.0341, -0.0201],\n",
      "          [ 0.0729,  0.0840,  0.0087, -0.0017, -0.0584,  0.0064],\n",
      "          [ 0.0050,  0.0423,  0.0104,  0.1059, -0.0156, -0.0093],\n",
      "          [ 0.0283,  0.1436,  0.0124,  0.0498,  0.0083, -0.0529],\n",
      "          [-0.0580, -0.0899, -0.0183, -0.0934, -0.0112,  0.0421]],\n",
      "\n",
      "         [[-0.0012,  0.0417, -0.0945,  0.0051, -0.0318,  0.0606],\n",
      "          [ 0.0058, -0.0663, -0.0796,  0.0149,  0.0512, -0.0133],\n",
      "          [-0.0218,  0.0146,  0.0467, -0.0262, -0.0142, -0.0524],\n",
      "          [ 0.1221,  0.0637,  0.0566, -0.0589, -0.0551, -0.0299],\n",
      "          [ 0.0308,  0.0308,  0.0963,  0.0261, -0.0981, -0.1041],\n",
      "          [ 0.0019,  0.0196,  0.0450,  0.0217,  0.0514,  0.0305]]],\n",
      "\n",
      "\n",
      "        [[[ 0.0551,  0.0070,  0.0088,  0.0756,  0.0317,  0.1242],\n",
      "          [-0.0350,  0.0751, -0.0055,  0.0735,  0.0229,  0.0890],\n",
      "          [-0.0618,  0.0619,  0.0435,  0.0911,  0.0500,  0.0271],\n",
      "          [ 0.0204,  0.0664, -0.0355,  0.0769,  0.0023,  0.0738],\n",
      "          [-0.0086, -0.0462,  0.0107,  0.0142,  0.0045,  0.0113],\n",
      "          [-0.0734,  0.0060,  0.0828, -0.0468, -0.0193,  0.0655]],\n",
      "\n",
      "         [[ 0.1843,  0.0357,  0.0228, -0.0743,  0.0208, -0.0491],\n",
      "          [-0.0172,  0.0568, -0.0021,  0.0217, -0.0011,  0.0086],\n",
      "          [ 0.0725,  0.0345,  0.0339,  0.0567,  0.0510,  0.0061],\n",
      "          [ 0.0561, -0.0320,  0.0575,  0.0724,  0.0204,  0.0466],\n",
      "          [ 0.0327, -0.1045,  0.0142, -0.0423, -0.0095, -0.0223],\n",
      "          [-0.0931,  0.0569, -0.0108, -0.1003, -0.0829, -0.0055]],\n",
      "\n",
      "         [[-0.0356,  0.0043,  0.0707,  0.0089, -0.0433,  0.0089],\n",
      "          [-0.0152, -0.0346,  0.0345, -0.1161,  0.1239, -0.0400],\n",
      "          [ 0.0759,  0.0536, -0.0121, -0.0059,  0.0174,  0.0152],\n",
      "          [ 0.0561, -0.0638, -0.0075, -0.0608,  0.0300,  0.0270],\n",
      "          [ 0.0303, -0.0974,  0.0089, -0.0589, -0.0681,  0.0260],\n",
      "          [ 0.0890,  0.0596, -0.0110, -0.0292,  0.0555, -0.1003]],\n",
      "\n",
      "         ...,\n",
      "\n",
      "         [[-0.0558, -0.0510,  0.0468,  0.0021, -0.0412, -0.0293],\n",
      "          [-0.0622,  0.0522, -0.0477, -0.0162,  0.0298,  0.0688],\n",
      "          [ 0.0053,  0.0064, -0.0377,  0.0741,  0.0956, -0.0825],\n",
      "          [-0.0881,  0.0246, -0.0277,  0.0458,  0.0964,  0.0756],\n",
      "          [ 0.0308,  0.1221,  0.0737, -0.0134,  0.0925,  0.0817],\n",
      "          [ 0.0228,  0.0298,  0.0523,  0.0170,  0.0272,  0.0671]],\n",
      "\n",
      "         [[-0.0366,  0.0142,  0.0353, -0.0037,  0.0480, -0.1434],\n",
      "          [ 0.0092, -0.0662, -0.0688, -0.0359,  0.1050,  0.0180],\n",
      "          [-0.0676, -0.0749, -0.0460,  0.0631,  0.0598, -0.0682],\n",
      "          [ 0.0078, -0.0633,  0.0164, -0.0059, -0.0965, -0.0701],\n",
      "          [ 0.0141,  0.0055, -0.0606, -0.0396, -0.0015, -0.0250],\n",
      "          [-0.0927, -0.0049, -0.0880, -0.0666, -0.0543, -0.0174]],\n",
      "\n",
      "         [[-0.0482,  0.0585,  0.0463,  0.0230, -0.0679, -0.1703],\n",
      "          [ 0.0542, -0.0976, -0.0512, -0.1019,  0.0407,  0.0605],\n",
      "          [ 0.0841, -0.0294, -0.0943,  0.0941,  0.0793,  0.0135],\n",
      "          [ 0.0224, -0.0493, -0.1001,  0.0487,  0.0163,  0.0841],\n",
      "          [ 0.1020, -0.0588,  0.0109,  0.0123,  0.0028,  0.0387],\n",
      "          [-0.0346, -0.0337, -0.0377,  0.0191, -0.0341, -0.0809]]],\n",
      "\n",
      "\n",
      "        [[[-0.0663, -0.0441, -0.0621, -0.0066, -0.1866, -0.0537],\n",
      "          [ 0.0303, -0.0429, -0.0838,  0.1085, -0.1327, -0.1052],\n",
      "          [ 0.0981,  0.0344, -0.0107, -0.0862, -0.0251, -0.0095],\n",
      "          [-0.0199,  0.0475, -0.0411, -0.0010, -0.0217, -0.0734],\n",
      "          [-0.0977, -0.0858, -0.0321,  0.0356, -0.1418, -0.0106],\n",
      "          [-0.0433, -0.0230, -0.0426, -0.0773, -0.0315, -0.0423]],\n",
      "\n",
      "         [[ 0.0913,  0.0056, -0.0245,  0.0358, -0.0330, -0.0280],\n",
      "          [-0.0361, -0.0612, -0.0393, -0.0127,  0.0914, -0.0240],\n",
      "          [ 0.0131,  0.0115,  0.0256,  0.0134, -0.0407,  0.0106],\n",
      "          [ 0.0060, -0.0258, -0.0254,  0.0433,  0.0552,  0.0040],\n",
      "          [ 0.0218, -0.1251,  0.0452, -0.0911, -0.0414,  0.0378],\n",
      "          [-0.0662, -0.0477, -0.0384, -0.0235, -0.0908, -0.0029]],\n",
      "\n",
      "         [[ 0.0260,  0.1191, -0.0389,  0.0461,  0.0526,  0.0793],\n",
      "          [ 0.0305, -0.0130,  0.0544,  0.0823,  0.1609,  0.0458],\n",
      "          [-0.0051,  0.0266,  0.0249, -0.0272,  0.0580,  0.0268],\n",
      "          [-0.0008, -0.0182, -0.0366,  0.0319,  0.0289,  0.0325],\n",
      "          [-0.0683, -0.0281,  0.0908, -0.0250,  0.0630,  0.0731],\n",
      "          [-0.0973,  0.1482,  0.0898,  0.0352,  0.0398,  0.0573]],\n",
      "\n",
      "         ...,\n",
      "\n",
      "         [[ 0.0628, -0.0606,  0.0314,  0.0133,  0.0342,  0.0024],\n",
      "          [ 0.0921,  0.0550,  0.0003, -0.0443,  0.0765, -0.0162],\n",
      "          [ 0.0720, -0.0319,  0.0967, -0.0089, -0.0712,  0.0423],\n",
      "          [-0.0167,  0.0205,  0.0359,  0.0374,  0.0187,  0.0059],\n",
      "          [-0.0059,  0.1036,  0.0909,  0.0239, -0.1004,  0.0678],\n",
      "          [-0.0765,  0.0078,  0.0438,  0.0386,  0.0088,  0.0538]],\n",
      "\n",
      "         [[-0.0310,  0.0239, -0.0488, -0.0724,  0.0585,  0.0396],\n",
      "          [ 0.0243,  0.0705, -0.0250,  0.0705, -0.0006,  0.0739],\n",
      "          [-0.0032, -0.0160,  0.0852,  0.0222,  0.0047, -0.0261],\n",
      "          [-0.0015, -0.0679, -0.0333,  0.0068,  0.0580, -0.0342],\n",
      "          [ 0.0131,  0.0911, -0.0491,  0.1323,  0.0554, -0.0635],\n",
      "          [ 0.0572, -0.0472, -0.0353,  0.1302, -0.0269, -0.0481]],\n",
      "\n",
      "         [[-0.0556,  0.0292, -0.0418, -0.0397, -0.0712,  0.0069],\n",
      "          [-0.0559, -0.0137, -0.0722, -0.0060, -0.0329, -0.0148],\n",
      "          [-0.0017, -0.1244,  0.0048,  0.0045, -0.0128, -0.0680],\n",
      "          [-0.0393,  0.0153, -0.0009,  0.0201, -0.0125,  0.0126],\n",
      "          [-0.0064, -0.0178,  0.0520, -0.0458, -0.0161,  0.0571],\n",
      "          [-0.0312, -0.0904, -0.0546,  0.0427, -0.0473, -0.0191]]]])\n",
      "-------------------------------\n",
      "conv3.bias\n",
      "tensor([ 0.0011, -0.0060,  0.0298,  0.0092,  0.0238, -0.0382,  0.0330,  0.0073,\n",
      "        -0.0115, -0.0285])\n",
      "-------------------------------\n",
      "conv3_normed.weight\n",
      "tensor([0.2481, 0.8119, 0.3323, 0.1857, 0.5000, 0.3305, 0.2886, 0.5064, 0.2030,\n",
      "        0.9857])\n",
      "-------------------------------\n",
      "conv3_normed.bias\n",
      "tensor([ 0.0354,  0.0046,  0.0284,  0.0491,  0.0439, -0.0258,  0.0591,  0.0028,\n",
      "        -0.0038,  0.0097])\n",
      "-------------------------------\n",
      "conv3_normed.running_mean\n",
      "tensor([ 0.0511, -0.0210,  0.0467,  0.0158,  0.0280, -0.0082,  0.0602, -0.0260,\n",
      "         0.0164, -0.0494])\n",
      "-------------------------------\n",
      "conv3_normed.running_var\n",
      "tensor([ 2.8629,  0.7459,  1.8492,  2.6779,  2.8158,  3.3900,  2.3527,  6.8824,\n",
      "         0.0487, 12.4375])\n",
      "-------------------------------\n",
      "conv4.weight\n",
      "tensor([[[[-0.0880,  0.1300,  0.0070,  0.0378],\n",
      "          [ 0.0438, -0.0954, -0.0037, -0.1171],\n",
      "          [-0.1661, -0.0375, -0.0604,  0.0048],\n",
      "          [ 0.0096,  0.1482,  0.0965,  0.0407]],\n",
      "\n",
      "         [[-0.0817,  0.0170,  0.0781, -0.0545],\n",
      "          [-0.0024, -0.0023,  0.0776, -0.2199],\n",
      "          [-0.1764, -0.0282, -0.0668, -0.1044],\n",
      "          [ 0.0086, -0.1120,  0.1261, -0.0946]],\n",
      "\n",
      "         [[ 0.1906,  0.0025,  0.1316,  0.0552],\n",
      "          [ 0.0078, -0.0030, -0.0203,  0.1423],\n",
      "          [-0.0634,  0.1536,  0.0462,  0.0483],\n",
      "          [ 0.1023, -0.0972,  0.0166, -0.0121]],\n",
      "\n",
      "         ...,\n",
      "\n",
      "         [[-0.0991,  0.0497,  0.0689,  0.0171],\n",
      "          [-0.1282,  0.0546, -0.0503,  0.1426],\n",
      "          [ 0.0896,  0.0498,  0.0296,  0.0503],\n",
      "          [ 0.0784, -0.1335,  0.1115,  0.0651]],\n",
      "\n",
      "         [[-0.0187,  0.0945, -0.0336,  0.0134],\n",
      "          [-0.0069,  0.0697, -0.1126,  0.0253],\n",
      "          [-0.0672,  0.1139, -0.0578, -0.0127],\n",
      "          [ 0.0181, -0.0800, -0.0374, -0.0897]],\n",
      "\n",
      "         [[ 0.0071,  0.0793, -0.0656,  0.0548],\n",
      "          [-0.1946,  0.0657,  0.0988,  0.0316],\n",
      "          [ 0.1867, -0.0352,  0.0043, -0.0330],\n",
      "          [-0.0480,  0.0840,  0.0068,  0.0666]]],\n",
      "\n",
      "\n",
      "        [[[-0.0134,  0.0070, -0.0055,  0.1188],\n",
      "          [ 0.0463,  0.2109,  0.1577, -0.0960],\n",
      "          [-0.0633,  0.1369,  0.0344, -0.0203],\n",
      "          [ 0.0566,  0.0697,  0.0623, -0.0397]],\n",
      "\n",
      "         [[ 0.0494, -0.0604,  0.0907,  0.0689],\n",
      "          [ 0.0241, -0.0151,  0.0570,  0.0153],\n",
      "          [-0.1755,  0.0776,  0.0539,  0.1581],\n",
      "          [ 0.1227,  0.1515,  0.0061,  0.0161]],\n",
      "\n",
      "         [[ 0.0275,  0.1819, -0.0153, -0.1289],\n",
      "          [ 0.0686, -0.0058, -0.0402,  0.0418],\n",
      "          [ 0.0923, -0.0897,  0.0423,  0.0351],\n",
      "          [-0.0862, -0.1156, -0.0015, -0.0875]],\n",
      "\n",
      "         ...,\n",
      "\n",
      "         [[ 0.0561,  0.0862, -0.0365,  0.0853],\n",
      "          [ 0.0390, -0.2223,  0.0224,  0.0212],\n",
      "          [-0.0067, -0.0826,  0.0596, -0.0441],\n",
      "          [-0.0988,  0.0658, -0.0547,  0.0105]],\n",
      "\n",
      "         [[-0.0683, -0.0195, -0.1092,  0.0439],\n",
      "          [ 0.0581, -0.0447, -0.1049,  0.1024],\n",
      "          [-0.1114, -0.0248, -0.0479, -0.1092],\n",
      "          [ 0.0429,  0.1263, -0.0679,  0.1043]],\n",
      "\n",
      "         [[ 0.1583,  0.0645,  0.1613,  0.0450],\n",
      "          [-0.0613, -0.0093, -0.0756,  0.1689],\n",
      "          [-0.1576,  0.0499, -0.1467,  0.0126],\n",
      "          [-0.0081, -0.0106,  0.0567,  0.1047]]],\n",
      "\n",
      "\n",
      "        [[[ 0.0876, -0.0313, -0.0387,  0.0342],\n",
      "          [ 0.0137, -0.0566, -0.0299,  0.0413],\n",
      "          [-0.0006, -0.0355, -0.1593,  0.0842],\n",
      "          [-0.0526, -0.0003, -0.0208, -0.0667]],\n",
      "\n",
      "         [[-0.0780, -0.0431,  0.0616, -0.0100],\n",
      "          [-0.0907,  0.1307, -0.0170, -0.0656],\n",
      "          [ 0.1272,  0.0021,  0.0263, -0.2458],\n",
      "          [ 0.0691, -0.0721,  0.1824, -0.0674]],\n",
      "\n",
      "         [[ 0.0217,  0.1122,  0.2165,  0.0505],\n",
      "          [ 0.0306,  0.0053,  0.0238, -0.0346],\n",
      "          [ 0.0650,  0.1235,  0.0708,  0.0840],\n",
      "          [ 0.0046, -0.0873,  0.1134, -0.0237]],\n",
      "\n",
      "         ...,\n",
      "\n",
      "         [[-0.0991,  0.2220,  0.1142, -0.1125],\n",
      "          [ 0.1699,  0.0194,  0.0362,  0.0352],\n",
      "          [ 0.0484,  0.0969,  0.0542, -0.1399],\n",
      "          [ 0.1016,  0.0133,  0.0727,  0.1124]],\n",
      "\n",
      "         [[-0.0133, -0.1225, -0.0471,  0.0190],\n",
      "          [ 0.0649,  0.0171,  0.0520,  0.0403],\n",
      "          [ 0.0633, -0.0026,  0.0409,  0.0118],\n",
      "          [-0.0245,  0.0673, -0.0029, -0.0367]],\n",
      "\n",
      "         [[ 0.0265,  0.0497, -0.0086, -0.1111],\n",
      "          [ 0.0576,  0.0126, -0.0247, -0.0020],\n",
      "          [-0.1076, -0.1162,  0.0343, -0.1490],\n",
      "          [ 0.0014, -0.0443, -0.0616,  0.0048]]],\n",
      "\n",
      "\n",
      "        ...,\n",
      "\n",
      "\n",
      "        [[[ 0.0289, -0.0604,  0.1555, -0.0693],\n",
      "          [-0.0250,  0.1041,  0.1601, -0.0417],\n",
      "          [-0.0230, -0.0080,  0.1254, -0.0215],\n",
      "          [-0.1295, -0.1850,  0.0410,  0.0142]],\n",
      "\n",
      "         [[-0.1964,  0.0385, -0.0478, -0.0744],\n",
      "          [-0.0601,  0.0161, -0.0259,  0.0197],\n",
      "          [ 0.0508, -0.1824, -0.0066,  0.2400],\n",
      "          [ 0.1204,  0.0054, -0.0003, -0.0715]],\n",
      "\n",
      "         [[ 0.0237,  0.0907, -0.0104,  0.0708],\n",
      "          [ 0.0021,  0.0454,  0.0296,  0.0122],\n",
      "          [-0.0051,  0.0329,  0.1174,  0.0051],\n",
      "          [-0.1191, -0.0297,  0.0265, -0.0166]],\n",
      "\n",
      "         ...,\n",
      "\n",
      "         [[-0.0818, -0.0046,  0.1440, -0.0221],\n",
      "          [-0.0118,  0.0501, -0.0494,  0.1254],\n",
      "          [-0.0434,  0.1242,  0.0184, -0.0833],\n",
      "          [-0.0141, -0.1927,  0.0151,  0.0432]],\n",
      "\n",
      "         [[ 0.0712, -0.0830, -0.1081, -0.1050],\n",
      "          [-0.0318, -0.0242, -0.0626, -0.0478],\n",
      "          [-0.0002,  0.2700,  0.0429,  0.0755],\n",
      "          [ 0.1197,  0.0815,  0.0808,  0.0357]],\n",
      "\n",
      "         [[-0.0094, -0.0514,  0.0322, -0.0808],\n",
      "          [ 0.1152, -0.0335, -0.0113,  0.1910],\n",
      "          [ 0.1913, -0.0509,  0.1349,  0.0120],\n",
      "          [-0.0574,  0.0877, -0.0610,  0.1321]]],\n",
      "\n",
      "\n",
      "        [[[ 0.0442, -0.0113, -0.0358,  0.1419],\n",
      "          [ 0.1071,  0.1251,  0.0273, -0.0655],\n",
      "          [ 0.0108,  0.0419,  0.1481,  0.0171],\n",
      "          [-0.0438,  0.0109,  0.1194,  0.0941]],\n",
      "\n",
      "         [[ 0.0446,  0.0234, -0.0638,  0.0553],\n",
      "          [-0.0465, -0.1888,  0.2809,  0.0388],\n",
      "          [ 0.0517, -0.0198, -0.0185, -0.0303],\n",
      "          [-0.0453,  0.1167, -0.0384,  0.0318]],\n",
      "\n",
      "         [[ 0.0912, -0.0173,  0.0220,  0.0637],\n",
      "          [-0.0382, -0.0029, -0.0006,  0.0327],\n",
      "          [-0.1341,  0.0024, -0.0334, -0.0259],\n",
      "          [-0.1276, -0.0892,  0.0298,  0.0683]],\n",
      "\n",
      "         ...,\n",
      "\n",
      "         [[-0.0974,  0.0787, -0.0629,  0.0558],\n",
      "          [-0.0213, -0.0365, -0.0617, -0.1153],\n",
      "          [-0.1883, -0.1106,  0.0062, -0.0095],\n",
      "          [-0.1072,  0.0196, -0.0006, -0.0099]],\n",
      "\n",
      "         [[ 0.0201,  0.0098,  0.1355, -0.0814],\n",
      "          [ 0.1278,  0.0120, -0.0109,  0.0533],\n",
      "          [-0.1081,  0.0787,  0.0115,  0.0013],\n",
      "          [ 0.0100,  0.0123,  0.0907,  0.0324]],\n",
      "\n",
      "         [[-0.0354, -0.0346, -0.0241,  0.1285],\n",
      "          [ 0.0019, -0.0517, -0.0126,  0.1554],\n",
      "          [ 0.0331, -0.0553,  0.0503, -0.0680],\n",
      "          [-0.1288,  0.0882, -0.0460, -0.0079]]],\n",
      "\n",
      "\n",
      "        [[[ 0.0236, -0.1122, -0.0008, -0.0120],\n",
      "          [ 0.0593,  0.0571,  0.1073,  0.2103],\n",
      "          [-0.0679, -0.0093,  0.0533,  0.0828],\n",
      "          [ 0.0512,  0.1956,  0.1273, -0.0139]],\n",
      "\n",
      "         [[-0.2003,  0.0128,  0.0205, -0.0779],\n",
      "          [ 0.1099,  0.0758,  0.0988,  0.0305],\n",
      "          [ 0.0899, -0.0437, -0.0401,  0.1475],\n",
      "          [ 0.0450, -0.0680, -0.0349, -0.1164]],\n",
      "\n",
      "         [[ 0.0135,  0.2206,  0.0896, -0.0185],\n",
      "          [ 0.0962, -0.0446, -0.0426, -0.0317],\n",
      "          [ 0.1087,  0.1479, -0.0238, -0.0047],\n",
      "          [-0.1610,  0.0046,  0.0482, -0.0960]],\n",
      "\n",
      "         ...,\n",
      "\n",
      "         [[ 0.0383,  0.0459,  0.0082, -0.0243],\n",
      "          [ 0.0530,  0.0006, -0.0644, -0.0447],\n",
      "          [ 0.0857, -0.0222, -0.1498, -0.0546],\n",
      "          [-0.1168, -0.0028,  0.0206, -0.0129]],\n",
      "\n",
      "         [[-0.0472, -0.1201, -0.0451, -0.0746],\n",
      "          [ 0.0420, -0.0157,  0.0059,  0.0212],\n",
      "          [ 0.0668, -0.0938, -0.1079, -0.0287],\n",
      "          [ 0.0665, -0.0056, -0.0423,  0.0648]],\n",
      "\n",
      "         [[ 0.0182,  0.0884,  0.1567, -0.1386],\n",
      "          [ 0.0911,  0.1484,  0.1553,  0.1034],\n",
      "          [-0.0061,  0.0615, -0.0636,  0.0837],\n",
      "          [-0.0137,  0.0426, -0.1053,  0.0861]]]])\n",
      "-------------------------------\n",
      "conv4.bias\n",
      "tensor([-0.0871,  0.0336,  0.0311, -0.0183, -0.1077,  0.0412,  0.0373,  0.0399,\n",
      "        -0.0125,  0.0283])\n",
      "-------------------------------\n",
      "conv4_normed.weight\n",
      "tensor([0.8596, 0.1662, 0.1008, 0.0019, 0.7696, 0.2719, 0.3721, 0.6326, 0.1771,\n",
      "        0.2343])\n",
      "-------------------------------\n",
      "conv4_normed.bias\n",
      "tensor([ 0.0311,  0.0120, -0.0306,  0.0435,  0.0281, -0.0054, -0.0026, -0.0105,\n",
      "         0.0191,  0.0414])\n",
      "-------------------------------\n",
      "conv4_normed.running_mean\n",
      "tensor([-0.0055,  0.0935,  0.0873,  0.0289, -0.0582, -0.0377, -0.0511,  0.0623,\n",
      "         0.0361,  0.1130])\n",
      "-------------------------------\n",
      "conv4_normed.running_var\n",
      "tensor([0.2992, 0.4194, 0.7581, 0.2776, 0.9688, 0.2938, 0.0650, 0.1138, 0.3408,\n",
      "        0.4123])\n",
      "-------------------------------\n",
      "conv5.weight\n",
      "tensor([[[[-0.0861,  0.1277,  0.1445,  0.0862],\n",
      "          [-0.0069, -0.1160, -0.0057, -0.0198],\n",
      "          [-0.0949, -0.1095,  0.0741,  0.0661],\n",
      "          [ 0.0075,  0.0552,  0.0781,  0.1084]],\n",
      "\n",
      "         [[ 0.0110, -0.0029,  0.0984,  0.0898],\n",
      "          [ 0.0443, -0.0577,  0.0190,  0.0555],\n",
      "          [ 0.1403, -0.1127, -0.0328,  0.1231],\n",
      "          [ 0.0467, -0.0776, -0.0767,  0.0346]],\n",
      "\n",
      "         [[ 0.1233,  0.1338, -0.0345, -0.0490],\n",
      "          [ 0.0796,  0.0555, -0.0560,  0.1101],\n",
      "          [ 0.0197, -0.0711,  0.0647,  0.1344],\n",
      "          [-0.0080, -0.0676, -0.1498,  0.0877]],\n",
      "\n",
      "         ...,\n",
      "\n",
      "         [[ 0.0536,  0.0007,  0.0165,  0.0486],\n",
      "          [ 0.1232,  0.0149, -0.1018, -0.0284],\n",
      "          [ 0.0699,  0.0633, -0.0231, -0.0314],\n",
      "          [-0.0720,  0.0053, -0.0769,  0.0280]],\n",
      "\n",
      "         [[-0.0865,  0.0145,  0.0132,  0.0727],\n",
      "          [-0.0646, -0.0832,  0.0687,  0.0848],\n",
      "          [-0.2299, -0.1254,  0.0863, -0.1054],\n",
      "          [-0.0352,  0.0219,  0.0087, -0.1791]],\n",
      "\n",
      "         [[ 0.1165,  0.0663,  0.2512, -0.0363],\n",
      "          [ 0.2095, -0.0168,  0.1293,  0.0098],\n",
      "          [-0.0189, -0.1382, -0.1109, -0.0779],\n",
      "          [-0.1005,  0.0875, -0.1177, -0.0318]]],\n",
      "\n",
      "\n",
      "        [[[ 0.0580,  0.1002, -0.1038,  0.0042],\n",
      "          [-0.0141, -0.0912, -0.0222, -0.0490],\n",
      "          [ 0.0806,  0.2452, -0.0553, -0.1431],\n",
      "          [ 0.0873,  0.0267, -0.1652,  0.0298]],\n",
      "\n",
      "         [[-0.2272, -0.0479,  0.0364,  0.0242],\n",
      "          [ 0.0395, -0.1276, -0.1035,  0.0116],\n",
      "          [ 0.0908, -0.0833,  0.0907, -0.1304],\n",
      "          [-0.0506,  0.0454, -0.0992,  0.0668]],\n",
      "\n",
      "         [[ 0.1194,  0.0263,  0.1580,  0.2068],\n",
      "          [ 0.0074, -0.0191,  0.1448,  0.1826],\n",
      "          [ 0.0983, -0.1040,  0.0836, -0.0980],\n",
      "          [-0.0556, -0.0139,  0.1229, -0.0190]],\n",
      "\n",
      "         ...,\n",
      "\n",
      "         [[-0.0400, -0.0505, -0.0731, -0.0750],\n",
      "          [-0.0346, -0.0353,  0.0996, -0.0657],\n",
      "          [ 0.1137,  0.0627, -0.0789,  0.0934],\n",
      "          [-0.0305, -0.0515,  0.0313,  0.0190]],\n",
      "\n",
      "         [[-0.1368,  0.0746, -0.0135, -0.0079],\n",
      "          [ 0.1269, -0.1108,  0.2332, -0.0365],\n",
      "          [-0.0461,  0.0536, -0.0909,  0.0089],\n",
      "          [ 0.0902, -0.0214,  0.0413, -0.0504]],\n",
      "\n",
      "         [[ 0.0375, -0.0330,  0.0102, -0.0179],\n",
      "          [-0.1292, -0.0555,  0.0377, -0.0742],\n",
      "          [-0.0795,  0.0778,  0.0554, -0.0673],\n",
      "          [-0.0599,  0.2164,  0.1883,  0.1079]]],\n",
      "\n",
      "\n",
      "        [[[ 0.0775, -0.1226, -0.1752,  0.0535],\n",
      "          [-0.0316, -0.1051, -0.1032, -0.1538],\n",
      "          [ 0.0033, -0.0127,  0.0226,  0.0279],\n",
      "          [-0.0438, -0.0489, -0.0760, -0.0101]],\n",
      "\n",
      "         [[ 0.0270, -0.0280,  0.0952, -0.0465],\n",
      "          [ 0.0743, -0.1137,  0.1536,  0.1803],\n",
      "          [-0.0306, -0.1048, -0.0988, -0.0084],\n",
      "          [-0.0647, -0.1127,  0.0283, -0.0608]],\n",
      "\n",
      "         [[ 0.0699,  0.0479,  0.0511, -0.0680],\n",
      "          [-0.0580,  0.1252,  0.1035,  0.0768],\n",
      "          [-0.1017,  0.0841,  0.0637, -0.0451],\n",
      "          [-0.0121, -0.1238,  0.0249,  0.0153]],\n",
      "\n",
      "         ...,\n",
      "\n",
      "         [[ 0.0151, -0.0686, -0.0192,  0.1195],\n",
      "          [ 0.0113,  0.0497,  0.0003,  0.0008],\n",
      "          [-0.0091, -0.0833,  0.0049,  0.0792],\n",
      "          [ 0.1238,  0.0037,  0.0967, -0.1765]],\n",
      "\n",
      "         [[-0.0284, -0.0883,  0.0370,  0.0317],\n",
      "          [-0.0622, -0.0507, -0.0191, -0.0483],\n",
      "          [ 0.0622, -0.0688, -0.0678, -0.1607],\n",
      "          [-0.0444, -0.1002, -0.1638, -0.0412]],\n",
      "\n",
      "         [[-0.0214, -0.1059,  0.0116,  0.0139],\n",
      "          [ 0.0945, -0.0464,  0.0790, -0.0014],\n",
      "          [-0.0711, -0.0105, -0.0798, -0.0783],\n",
      "          [-0.0244, -0.0584, -0.0411, -0.0580]]],\n",
      "\n",
      "\n",
      "        ...,\n",
      "\n",
      "\n",
      "        [[[-0.1252,  0.0695, -0.0872, -0.0075],\n",
      "          [-0.0567,  0.1355, -0.1277, -0.1043],\n",
      "          [-0.0666,  0.0356, -0.1259,  0.0860],\n",
      "          [-0.0581,  0.0260,  0.0314, -0.1892]],\n",
      "\n",
      "         [[ 0.0935, -0.0913,  0.0764, -0.0269],\n",
      "          [ 0.0176, -0.1250, -0.0504,  0.0592],\n",
      "          [-0.1260,  0.0824, -0.1195, -0.0770],\n",
      "          [-0.0504,  0.0242,  0.0405, -0.0718]],\n",
      "\n",
      "         [[ 0.0053, -0.0802,  0.1068, -0.1774],\n",
      "          [-0.0910, -0.0622,  0.1833, -0.0429],\n",
      "          [-0.0326, -0.0173,  0.0309,  0.1337],\n",
      "          [ 0.1103,  0.0199, -0.1072, -0.1231]],\n",
      "\n",
      "         ...,\n",
      "\n",
      "         [[ 0.0472,  0.0559,  0.0643, -0.0200],\n",
      "          [-0.1730,  0.0174,  0.0901, -0.1216],\n",
      "          [-0.1097,  0.0332, -0.0120, -0.0653],\n",
      "          [ 0.0959, -0.0233,  0.0725,  0.1182]],\n",
      "\n",
      "         [[ 0.0655, -0.0265,  0.1361,  0.1501],\n",
      "          [ 0.0569, -0.0526,  0.0913, -0.0325],\n",
      "          [ 0.0303, -0.0070, -0.0766, -0.0563],\n",
      "          [ 0.0039, -0.0446, -0.1722, -0.0967]],\n",
      "\n",
      "         [[ 0.1427, -0.0996, -0.0499, -0.0979],\n",
      "          [-0.0766, -0.0420, -0.0133, -0.1219],\n",
      "          [ 0.0128,  0.0699,  0.1196, -0.1157],\n",
      "          [ 0.0312, -0.0850, -0.1568, -0.0195]]],\n",
      "\n",
      "\n",
      "        [[[ 0.0975,  0.1326,  0.0151,  0.0618],\n",
      "          [ 0.0108,  0.0025,  0.0244,  0.1000],\n",
      "          [ 0.0198,  0.0696,  0.0626,  0.1370],\n",
      "          [-0.0042,  0.0287, -0.0598,  0.0405]],\n",
      "\n",
      "         [[-0.0055,  0.0071, -0.0729, -0.0286],\n",
      "          [ 0.0821, -0.0634,  0.0973, -0.0503],\n",
      "          [ 0.1000,  0.0567,  0.0949,  0.1898],\n",
      "          [-0.0098, -0.0009,  0.0300,  0.0814]],\n",
      "\n",
      "         [[ 0.0146, -0.0082, -0.0354, -0.0485],\n",
      "          [ 0.0866,  0.0440, -0.0956, -0.0123],\n",
      "          [ 0.0591, -0.0147,  0.0049,  0.0615],\n",
      "          [ 0.1051, -0.0795, -0.0596,  0.0251]],\n",
      "\n",
      "         ...,\n",
      "\n",
      "         [[-0.0253, -0.0577,  0.0444, -0.0194],\n",
      "          [-0.0601,  0.0256, -0.0063, -0.0319],\n",
      "          [-0.0502, -0.0006, -0.0089,  0.0759],\n",
      "          [ 0.0328, -0.0237, -0.0083, -0.1497]],\n",
      "\n",
      "         [[-0.0352, -0.0508, -0.1084,  0.1189],\n",
      "          [ 0.0482, -0.1825, -0.0282,  0.0780],\n",
      "          [ 0.0968,  0.1255,  0.0101,  0.0277],\n",
      "          [-0.0359, -0.0480,  0.1507,  0.0044]],\n",
      "\n",
      "         [[-0.0924,  0.1040,  0.0805, -0.0059],\n",
      "          [ 0.1513,  0.0474,  0.0026, -0.0203],\n",
      "          [ 0.0057,  0.0221, -0.1019, -0.0720],\n",
      "          [ 0.1072, -0.0318,  0.0462, -0.0418]]],\n",
      "\n",
      "\n",
      "        [[[-0.0222,  0.0554, -0.1004,  0.0367],\n",
      "          [ 0.1338,  0.0152,  0.0626, -0.0572],\n",
      "          [-0.0064, -0.0141, -0.0481,  0.1749],\n",
      "          [-0.2820, -0.0414, -0.0057, -0.0788]],\n",
      "\n",
      "         [[ 0.0697,  0.1571,  0.0141,  0.0567],\n",
      "          [ 0.0506,  0.0173,  0.0605, -0.0993],\n",
      "          [-0.1376,  0.1088,  0.0284, -0.1006],\n",
      "          [ 0.1359,  0.2914,  0.0733,  0.1173]],\n",
      "\n",
      "         [[ 0.1106,  0.0604,  0.1197,  0.0145],\n",
      "          [ 0.1351,  0.0220, -0.0260,  0.0392],\n",
      "          [-0.0668, -0.0587,  0.0944, -0.1382],\n",
      "          [ 0.0161,  0.0524, -0.1794, -0.0511]],\n",
      "\n",
      "         ...,\n",
      "\n",
      "         [[ 0.0525, -0.0382, -0.0130,  0.0268],\n",
      "          [ 0.0702,  0.1581, -0.0743,  0.0318],\n",
      "          [ 0.0998, -0.0405, -0.1172, -0.0383],\n",
      "          [ 0.0560, -0.1601, -0.0467,  0.0035]],\n",
      "\n",
      "         [[ 0.0102, -0.1254,  0.0627,  0.0762],\n",
      "          [ 0.0910,  0.0850, -0.0038,  0.1297],\n",
      "          [ 0.0576,  0.0203,  0.1287,  0.0654],\n",
      "          [-0.0463,  0.0360,  0.0774,  0.0719]],\n",
      "\n",
      "         [[-0.0449, -0.0518,  0.0205,  0.0225],\n",
      "          [-0.1311,  0.1108,  0.1489,  0.1011],\n",
      "          [ 0.1514, -0.0513, -0.0072,  0.0413],\n",
      "          [ 0.0734, -0.0837, -0.0568,  0.0614]]]])\n",
      "-------------------------------\n",
      "conv5.bias\n",
      "tensor([ 0.0276,  0.0601,  0.0363, -0.0072, -0.0493,  0.0217, -0.0524,  0.0129])\n",
      "-------------------------------\n",
      "conv5_normed.weight\n",
      "tensor([0.6847, 0.6636, 0.5310, 0.6683, 0.9572, 0.4962, 0.0760, 0.8638])\n",
      "-------------------------------\n",
      "conv5_normed.bias\n",
      "tensor([0.0868, 0.1057, 0.0800, 0.0923, 0.1005, 0.0884, 0.0981, 0.0828])\n",
      "-------------------------------\n",
      "conv5_normed.running_mean\n",
      "tensor([ 0.0060,  0.0486, -0.0314, -0.0287, -0.0337, -0.0041, -0.0288,  0.0672])\n",
      "-------------------------------\n",
      "conv5_normed.running_var\n",
      "tensor([0.5347, 0.1251, 0.3553, 0.5462, 0.1637, 0.4081, 0.4404, 0.3676])\n",
      "-------------------------------\n",
      "fc1.weight\n",
      "tensor([[ 0.0116, -0.0020,  0.0088,  ...,  0.0065,  0.0037,  0.0033],\n",
      "        [-0.0145, -0.0233, -0.0211,  ...,  0.0609,  0.0691,  0.0568],\n",
      "        [-0.0080, -0.0087, -0.0011,  ..., -0.0055, -0.0059, -0.0004],\n",
      "        ...,\n",
      "        [ 0.0079,  0.0090,  0.0088,  ...,  0.0080,  0.0067,  0.0086],\n",
      "        [-0.0055,  0.0020, -0.0008,  ..., -0.0073, -0.0119, -0.0196],\n",
      "        [ 0.0166,  0.0227,  0.0264,  ..., -0.0081, -0.0070, -0.0009]])\n",
      "-------------------------------\n",
      "fc1.bias\n",
      "tensor([ 0.0074, -0.0145, -0.0018,  0.0064, -0.0316,  0.0090,  0.0075,  0.0204,\n",
      "        -0.0063, -0.0090, -0.0059,  0.0096, -0.0106, -0.0073, -0.0044,  0.0339,\n",
      "         0.0113,  0.0078,  0.0078, -0.0348,  0.0086, -0.0075,  0.0045,  0.0077,\n",
      "        -0.0263, -0.0115, -0.0103,  0.0036,  0.0077, -0.0056,  0.0041, -0.0013,\n",
      "        -0.0073, -0.0061, -0.0530, -0.0047, -0.0092,  0.0109,  0.0040, -0.0078,\n",
      "         0.0094, -0.0077, -0.0074, -0.0077, -0.0081,  0.0038,  0.0124, -0.0135,\n",
      "        -0.0107, -0.0049,  0.0109, -0.0105,  0.0082, -0.0142,  0.0084,  0.0094,\n",
      "        -0.0036,  0.0041,  0.0126, -0.0065, -0.0060,  0.0139,  0.0060, -0.0169,\n",
      "        -0.0077, -0.0002,  0.0085, -0.0107,  0.0075, -0.0001, -0.0103,  0.0031,\n",
      "         0.0103, -0.0086, -0.0085,  0.0042,  0.0125,  0.0057,  0.0084, -0.0054,\n",
      "         0.0082,  0.0365,  0.0074, -0.0111, -0.0064,  0.0189, -0.0200, -0.0248,\n",
      "         0.0056, -0.0105,  0.0084, -0.0074, -0.0088,  0.0063, -0.0247, -0.0114,\n",
      "         0.0001,  0.0067,  0.0059,  0.0071, -0.0094, -0.0044,  0.0092, -0.0102,\n",
      "        -0.0086,  0.0087,  0.0075,  0.0211,  0.0092,  0.0037, -0.0125, -0.0075,\n",
      "        -0.0070,  0.0040,  0.0067, -0.0073,  0.0063, -0.0132,  0.0349, -0.0051,\n",
      "         0.0094,  0.0094,  0.0075,  0.0072,  0.0081,  0.0111, -0.0036,  0.0185])\n",
      "-------------------------------\n",
      "fc1_normed.weight\n",
      "tensor([0.8826, 0.0474, 0.6972, 0.3160, 0.0153, 0.6029, 0.4394, 0.9410, 0.9020,\n",
      "        0.2927, 0.0729, 0.4571, 0.6884, 0.3462, 0.2385, 0.8576, 0.9189, 0.7525,\n",
      "        0.6780, 0.5738, 0.6073, 0.8747, 0.8976, 0.0585, 0.7818, 0.6010, 0.5373,\n",
      "        0.0006, 0.9857, 0.3222, 0.7716, 0.5681, 0.9536, 0.0083, 0.2489, 0.2518,\n",
      "        0.6544, 0.4627, 0.4998, 0.1851, 0.9679, 0.4746, 0.8015, 0.9616, 0.9816,\n",
      "        0.1286, 0.4254, 0.8835, 0.6428, 0.3998, 0.5283, 0.1411, 0.4802, 0.2923,\n",
      "        0.3514, 0.2702, 0.2212, 0.4843, 0.9008, 0.9209, 0.5324, 0.9465, 0.8313,\n",
      "        0.7197, 0.3454, 0.1795, 0.5016, 0.3564, 0.1504, 0.7576, 0.4475, 0.2150,\n",
      "        0.5733, 0.2489, 0.7078, 0.3638, 0.2349, 0.0782, 0.7456, 0.3462, 0.3898,\n",
      "        0.3835, 0.2681, 0.1406, 0.7935, 0.8506, 0.5503, 0.0602, 0.6234, 0.5835,\n",
      "        0.7941, 0.5701, 0.6998, 0.7644, 0.8588, 0.5782, 0.8917, 0.7774, 0.8225,\n",
      "        0.6388, 0.1906, 0.4330, 0.8380, 0.9705, 0.0088, 0.6192, 0.7144, 0.3485,\n",
      "        0.5212, 0.5982, 0.4849, 0.7120, 0.9839, 0.1770, 0.9442, 0.4450, 0.3762,\n",
      "        0.9277, 0.7964, 0.6378, 0.7603, 0.2122, 0.6241, 0.8710, 0.3071, 0.3468,\n",
      "        0.2698, 0.1712])\n",
      "-------------------------------\n",
      "fc1_normed.bias\n",
      "tensor([0., 0., 0., 0., 0., 0., 0., 0., 0., 0., 0., 0., 0., 0., 0., 0., 0., 0.,\n",
      "        0., 0., 0., 0., 0., 0., 0., 0., 0., 0., 0., 0., 0., 0., 0., 0., 0., 0.,\n",
      "        0., 0., 0., 0., 0., 0., 0., 0., 0., 0., 0., 0., 0., 0., 0., 0., 0., 0.,\n",
      "        0., 0., 0., 0., 0., 0., 0., 0., 0., 0., 0., 0., 0., 0., 0., 0., 0., 0.,\n",
      "        0., 0., 0., 0., 0., 0., 0., 0., 0., 0., 0., 0., 0., 0., 0., 0., 0., 0.,\n",
      "        0., 0., 0., 0., 0., 0., 0., 0., 0., 0., 0., 0., 0., 0., 0., 0., 0., 0.,\n",
      "        0., 0., 0., 0., 0., 0., 0., 0., 0., 0., 0., 0., 0., 0., 0., 0., 0., 0.,\n",
      "        0., 0.])\n",
      "-------------------------------\n",
      "fc1_normed.running_mean\n",
      "tensor([0., 0., 0., 0., 0., 0., 0., 0., 0., 0., 0., 0., 0., 0., 0., 0., 0., 0.,\n",
      "        0., 0., 0., 0., 0., 0., 0., 0., 0., 0., 0., 0., 0., 0., 0., 0., 0., 0.,\n",
      "        0., 0., 0., 0., 0., 0., 0., 0., 0., 0., 0., 0., 0., 0., 0., 0., 0., 0.,\n",
      "        0., 0., 0., 0., 0., 0., 0., 0., 0., 0., 0., 0., 0., 0., 0., 0., 0., 0.,\n",
      "        0., 0., 0., 0., 0., 0., 0., 0., 0., 0., 0., 0., 0., 0., 0., 0., 0., 0.,\n",
      "        0., 0., 0., 0., 0., 0., 0., 0., 0., 0., 0., 0., 0., 0., 0., 0., 0., 0.,\n",
      "        0., 0., 0., 0., 0., 0., 0., 0., 0., 0., 0., 0., 0., 0., 0., 0., 0., 0.,\n",
      "        0., 0.])\n",
      "-------------------------------\n",
      "fc1_normed.running_var\n",
      "tensor([1., 1., 1., 1., 1., 1., 1., 1., 1., 1., 1., 1., 1., 1., 1., 1., 1., 1.,\n",
      "        1., 1., 1., 1., 1., 1., 1., 1., 1., 1., 1., 1., 1., 1., 1., 1., 1., 1.,\n",
      "        1., 1., 1., 1., 1., 1., 1., 1., 1., 1., 1., 1., 1., 1., 1., 1., 1., 1.,\n",
      "        1., 1., 1., 1., 1., 1., 1., 1., 1., 1., 1., 1., 1., 1., 1., 1., 1., 1.,\n",
      "        1., 1., 1., 1., 1., 1., 1., 1., 1., 1., 1., 1., 1., 1., 1., 1., 1., 1.,\n",
      "        1., 1., 1., 1., 1., 1., 1., 1., 1., 1., 1., 1., 1., 1., 1., 1., 1., 1.,\n",
      "        1., 1., 1., 1., 1., 1., 1., 1., 1., 1., 1., 1., 1., 1., 1., 1., 1., 1.,\n",
      "        1., 1.])\n",
      "-------------------------------\n",
      "fc2.weight\n",
      "tensor([[ 0.0687, -0.0097, -0.0852,  ..., -0.1734, -0.0570,  0.0437],\n",
      "        [-0.0306,  0.1362, -0.1652,  ..., -0.3228, -0.0003,  0.1234],\n",
      "        [-0.0267,  0.1154, -0.0357,  ...,  0.0480,  0.0461,  0.0156],\n",
      "        ...,\n",
      "        [-0.1488, -0.0605, -0.0788,  ..., -0.0875,  0.0511,  0.1939],\n",
      "        [-0.0262, -0.0848,  0.1906,  ..., -0.0615,  0.0097,  0.0634],\n",
      "        [-0.0308, -0.0527,  0.1064,  ..., -0.1106,  0.0176, -0.1385]])\n",
      "-------------------------------\n",
      "fc2.bias\n",
      "tensor([-0.1030, -0.0280, -0.0055, -0.0941, -0.0314, -0.0266,  0.0139, -0.0401,\n",
      "        -0.1430, -0.0289, -0.0057, -0.0051, -0.0741, -0.0442])\n",
      "-------------------------------\n"
     ]
    }
   ],
   "source": [
    "model = torch.load('./results/kfold-deeptan-subset/test-0-params', map_location='cpu')\n",
    "for i in model:\n",
    "    print(i)\n",
    "    print(model[i])\n",
    "    print('-------------------------------')"
   ]
  },
  {
   "cell_type": "code",
   "execution_count": 73,
   "metadata": {},
   "outputs": [
    {
     "name": "stdout",
     "output_type": "stream",
     "text": [
      "tensor([[[[ 0.0712,  0.0339,  0.1238, -0.0489,  0.0172, -0.0183, -0.0382,\n",
      "           -0.0328],\n",
      "          [ 0.0028, -0.0323, -0.0318,  0.0632,  0.0780,  0.0673,  0.0631,\n",
      "           -0.0517],\n",
      "          [ 0.0126, -0.0095, -0.0206,  0.0022, -0.0547, -0.0645,  0.0046,\n",
      "           -0.0516],\n",
      "          [ 0.0525,  0.0033, -0.0062,  0.0395,  0.0468,  0.0097, -0.0051,\n",
      "           -0.0356],\n",
      "          [ 0.0114,  0.0531, -0.0113, -0.0091, -0.1197,  0.0303, -0.0181,\n",
      "           -0.0666],\n",
      "          [ 0.0326, -0.0298,  0.0475, -0.0770, -0.0921,  0.0657, -0.0907,\n",
      "           -0.0236],\n",
      "          [-0.0065, -0.0512, -0.0238,  0.0339, -0.1849,  0.0510, -0.0746,\n",
      "           -0.0109],\n",
      "          [ 0.0234, -0.0079, -0.0010, -0.0044, -0.0575,  0.0605,  0.0291,\n",
      "            0.0006]]],\n",
      "\n",
      "\n",
      "        [[[-0.0623, -0.0857, -0.0202, -0.0527,  0.0446,  0.0219,  0.0292,\n",
      "            0.0578],\n",
      "          [-0.0784, -0.0771, -0.0622,  0.0071, -0.0774, -0.0463,  0.0089,\n",
      "            0.0792],\n",
      "          [-0.0404,  0.0077,  0.0111,  0.0180, -0.0672, -0.0720,  0.0028,\n",
      "            0.0024],\n",
      "          [ 0.0622,  0.0365, -0.0624,  0.0660, -0.0079, -0.0747, -0.0234,\n",
      "            0.0115],\n",
      "          [ 0.0430,  0.0342, -0.0347,  0.0090,  0.0006, -0.0131, -0.0367,\n",
      "           -0.0873],\n",
      "          [-0.0084,  0.0744,  0.0901, -0.0122, -0.0046,  0.0489, -0.0561,\n",
      "           -0.0314],\n",
      "          [ 0.0038, -0.0486,  0.0369, -0.0299,  0.0074,  0.0423,  0.1521,\n",
      "            0.0436],\n",
      "          [ 0.0605, -0.0834,  0.0373, -0.0413, -0.0204, -0.0466,  0.0535,\n",
      "           -0.0781]]],\n",
      "\n",
      "\n",
      "        [[[ 0.0150, -0.0119,  0.0353,  0.0721, -0.1150, -0.0354, -0.0497,\n",
      "           -0.0250],\n",
      "          [-0.0207, -0.0845, -0.0132,  0.0351,  0.0232, -0.0199, -0.0511,\n",
      "           -0.1013],\n",
      "          [-0.0244,  0.0336, -0.0077,  0.0607, -0.0116,  0.0099, -0.1574,\n",
      "           -0.0148],\n",
      "          [-0.0511,  0.0168,  0.0578,  0.0065, -0.0472,  0.0208, -0.0087,\n",
      "           -0.0911],\n",
      "          [-0.0237,  0.0025,  0.0632, -0.0075,  0.0349,  0.0477,  0.0183,\n",
      "           -0.0789],\n",
      "          [ 0.0816, -0.0087,  0.0439, -0.0085,  0.0514,  0.0061, -0.1127,\n",
      "           -0.0412],\n",
      "          [-0.1311, -0.0408, -0.1286, -0.0026,  0.0420, -0.0284, -0.0575,\n",
      "           -0.0180],\n",
      "          [-0.0181,  0.0355,  0.0686, -0.0248, -0.0601,  0.0511, -0.0730,\n",
      "            0.0435]]],\n",
      "\n",
      "\n",
      "        [[[ 0.0553,  0.0226, -0.0628,  0.0963,  0.1367, -0.0561, -0.1395,\n",
      "            0.0413],\n",
      "          [-0.0628, -0.0124,  0.0670, -0.0317,  0.0206,  0.0164,  0.0087,\n",
      "           -0.0284],\n",
      "          [-0.0919,  0.0240, -0.0215,  0.0847,  0.0048,  0.0487, -0.0326,\n",
      "            0.0439],\n",
      "          [ 0.0249, -0.0760, -0.0075, -0.0244, -0.1013, -0.0113,  0.0682,\n",
      "           -0.0543],\n",
      "          [ 0.0248,  0.0107,  0.0535, -0.0231, -0.0136,  0.0572, -0.0592,\n",
      "            0.0590],\n",
      "          [ 0.0407,  0.0339,  0.0568,  0.0844, -0.0081, -0.0600,  0.0565,\n",
      "            0.0341],\n",
      "          [ 0.0974,  0.0866,  0.0266,  0.0423,  0.0563, -0.0119,  0.0134,\n",
      "            0.0244],\n",
      "          [-0.0454,  0.0532,  0.0837,  0.0233,  0.1259,  0.0605, -0.0161,\n",
      "           -0.1087]]],\n",
      "\n",
      "\n",
      "        [[[-0.0534, -0.0421, -0.0461, -0.0434, -0.0427, -0.0205, -0.0132,\n",
      "            0.0336],\n",
      "          [-0.0085,  0.0348, -0.0794, -0.0316, -0.0124, -0.0452, -0.0397,\n",
      "           -0.0307],\n",
      "          [-0.0898, -0.0972, -0.0255,  0.0182,  0.0656, -0.0616, -0.0374,\n",
      "           -0.0476],\n",
      "          [-0.1434, -0.0272, -0.0468, -0.0778,  0.0460, -0.0145, -0.0161,\n",
      "            0.0772],\n",
      "          [-0.0740,  0.0437,  0.0316, -0.0204, -0.0433,  0.0264, -0.0092,\n",
      "            0.0068],\n",
      "          [ 0.0275, -0.0509, -0.0170, -0.0193,  0.0433,  0.0621,  0.0116,\n",
      "           -0.0213],\n",
      "          [-0.0665, -0.0084,  0.0125,  0.0767,  0.0131, -0.0338, -0.0099,\n",
      "           -0.0244],\n",
      "          [ 0.0226,  0.0367, -0.0786, -0.0307,  0.1071,  0.0532, -0.0480,\n",
      "           -0.0367]]],\n",
      "\n",
      "\n",
      "        [[[ 0.0218,  0.0496,  0.0684, -0.1490, -0.0500, -0.0753, -0.0316,\n",
      "           -0.0687],\n",
      "          [-0.0060,  0.0537, -0.0942, -0.0528,  0.1663, -0.0503,  0.0119,\n",
      "           -0.0224],\n",
      "          [-0.0541,  0.0145,  0.0354,  0.0632, -0.0137,  0.0451,  0.0234,\n",
      "           -0.0301],\n",
      "          [-0.0867,  0.0258,  0.0037,  0.0613, -0.0364, -0.0300, -0.0952,\n",
      "           -0.0311],\n",
      "          [-0.0169,  0.0238,  0.0054,  0.1596, -0.0197, -0.0735, -0.0407,\n",
      "           -0.0419],\n",
      "          [ 0.0058, -0.1465, -0.0979,  0.0814, -0.0188,  0.0451,  0.0098,\n",
      "            0.0054],\n",
      "          [-0.0694, -0.0003, -0.0798,  0.0533,  0.0047, -0.0710,  0.0369,\n",
      "            0.0429],\n",
      "          [-0.0240, -0.0734,  0.0035, -0.0494, -0.0677, -0.0750, -0.0034,\n",
      "            0.0781]]],\n",
      "\n",
      "\n",
      "        [[[ 0.0422, -0.0534,  0.0510,  0.0330, -0.0126,  0.0230, -0.0056,\n",
      "            0.0015],\n",
      "          [-0.0270, -0.0321, -0.0592,  0.0667, -0.0185, -0.0350,  0.0611,\n",
      "            0.0740],\n",
      "          [-0.0634, -0.0799,  0.0693,  0.0844, -0.0415, -0.0651,  0.0307,\n",
      "           -0.0013],\n",
      "          [-0.0956,  0.0435,  0.0550,  0.0217,  0.0494, -0.0387,  0.0181,\n",
      "           -0.0442],\n",
      "          [-0.0048,  0.0166,  0.0248,  0.0860,  0.0143,  0.0348,  0.0056,\n",
      "            0.0166],\n",
      "          [-0.0477,  0.0701,  0.0136,  0.0342, -0.0142,  0.0141,  0.0506,\n",
      "            0.0442],\n",
      "          [-0.0179,  0.0432,  0.0412,  0.0922, -0.0468, -0.0258,  0.0325,\n",
      "           -0.0283],\n",
      "          [ 0.0941,  0.0898,  0.0039, -0.0337, -0.0581,  0.0087, -0.0275,\n",
      "            0.0164]]],\n",
      "\n",
      "\n",
      "        [[[ 0.1179, -0.0056, -0.0256,  0.0103, -0.0319,  0.1267,  0.0596,\n",
      "           -0.0386],\n",
      "          [ 0.0595,  0.0094,  0.0178,  0.0532,  0.0306, -0.0071, -0.1115,\n",
      "           -0.0122],\n",
      "          [ 0.0195,  0.1041, -0.0604, -0.0220,  0.0284,  0.0953,  0.0394,\n",
      "            0.0569],\n",
      "          [ 0.0456,  0.0471,  0.0746,  0.0136,  0.0462, -0.0460,  0.0422,\n",
      "            0.0356],\n",
      "          [ 0.0182,  0.0724, -0.0631, -0.0675,  0.0201, -0.0414,  0.0141,\n",
      "            0.0098],\n",
      "          [ 0.0583, -0.0794,  0.0905,  0.0118,  0.0275, -0.0248,  0.0243,\n",
      "            0.1347],\n",
      "          [ 0.0159,  0.0272, -0.0297, -0.0111, -0.0157, -0.0871,  0.0128,\n",
      "           -0.0599],\n",
      "          [-0.0518, -0.0504,  0.0635,  0.1090,  0.0260, -0.0022, -0.0486,\n",
      "           -0.0013]]],\n",
      "\n",
      "\n",
      "        [[[-0.0878, -0.0247,  0.0139,  0.0800,  0.0649,  0.0036, -0.0140,\n",
      "           -0.0912],\n",
      "          [ 0.0434, -0.0574,  0.1570,  0.0811, -0.0097, -0.0611, -0.0261,\n",
      "            0.0220],\n",
      "          [ 0.0364, -0.0028, -0.0327, -0.0346, -0.0390,  0.0326,  0.0405,\n",
      "           -0.0360],\n",
      "          [ 0.0616,  0.0671, -0.0325, -0.0333,  0.0765,  0.1186,  0.0540,\n",
      "           -0.0252],\n",
      "          [ 0.0024,  0.0007,  0.1315, -0.1059, -0.0098,  0.0269, -0.0612,\n",
      "            0.0412],\n",
      "          [-0.0977,  0.1018,  0.0210,  0.0215,  0.0936,  0.0015, -0.0101,\n",
      "            0.0986],\n",
      "          [ 0.0071,  0.0171, -0.0631, -0.0756,  0.0325,  0.0935, -0.0034,\n",
      "           -0.0237],\n",
      "          [ 0.0812,  0.0588,  0.0355, -0.0299,  0.0574,  0.0540,  0.0460,\n",
      "            0.0355]]],\n",
      "\n",
      "\n",
      "        [[[-0.0049, -0.0333, -0.0038,  0.0728, -0.0422,  0.0432,  0.1169,\n",
      "           -0.1000],\n",
      "          [ 0.0014, -0.0058, -0.0370,  0.0210,  0.1183, -0.0035, -0.0176,\n",
      "           -0.0192],\n",
      "          [-0.0447, -0.1134, -0.1306,  0.0437,  0.0049,  0.0215,  0.0467,\n",
      "           -0.1002],\n",
      "          [-0.0101, -0.0480,  0.0096, -0.0048,  0.0351,  0.0194, -0.0472,\n",
      "            0.0299],\n",
      "          [-0.0531, -0.0109,  0.0100, -0.0187, -0.0653,  0.0073, -0.0404,\n",
      "           -0.0107],\n",
      "          [-0.0178,  0.0529,  0.0610, -0.0764, -0.0153, -0.1208, -0.0483,\n",
      "            0.0846],\n",
      "          [ 0.0003,  0.0243, -0.0268, -0.0582, -0.1239,  0.0132, -0.0621,\n",
      "            0.0356],\n",
      "          [ 0.0889,  0.0073,  0.0694,  0.0338, -0.0162, -0.0139,  0.0300,\n",
      "           -0.0453]]],\n",
      "\n",
      "\n",
      "        [[[-0.0031, -0.0070, -0.0309,  0.0480, -0.0168, -0.0709, -0.0600,\n",
      "            0.0564],\n",
      "          [ 0.0141, -0.0733,  0.1378,  0.0097,  0.0812, -0.0405,  0.0699,\n",
      "            0.0369],\n",
      "          [-0.0279,  0.0883, -0.0220,  0.0202,  0.0173,  0.0022, -0.0518,\n",
      "            0.0361],\n",
      "          [ 0.0356,  0.0810, -0.0522, -0.0257, -0.1645, -0.0235,  0.0033,\n",
      "           -0.0077],\n",
      "          [ 0.0329,  0.0291,  0.0154, -0.0892, -0.0722, -0.1781,  0.0084,\n",
      "           -0.0669],\n",
      "          [-0.0304,  0.0290,  0.0355,  0.0218, -0.0136, -0.1156, -0.0073,\n",
      "           -0.0243],\n",
      "          [ 0.0021,  0.0126, -0.0466,  0.0089, -0.0622, -0.0120,  0.0916,\n",
      "           -0.0286],\n",
      "          [-0.0066, -0.0063, -0.0237, -0.0315,  0.0105, -0.0649,  0.0447,\n",
      "            0.0139]]],\n",
      "\n",
      "\n",
      "        [[[ 0.0132,  0.0112,  0.0329,  0.0227, -0.0440,  0.1165,  0.0126,\n",
      "           -0.0539],\n",
      "          [-0.0212,  0.0428, -0.0549,  0.0370, -0.0087,  0.0572, -0.0112,\n",
      "            0.0462],\n",
      "          [ 0.0203, -0.0088,  0.0851,  0.0224,  0.0732,  0.0976,  0.0385,\n",
      "           -0.0807],\n",
      "          [ 0.0676, -0.0373, -0.0250, -0.0144,  0.0803,  0.1300, -0.0529,\n",
      "            0.0081],\n",
      "          [-0.0046, -0.0180, -0.0073, -0.0664,  0.0194,  0.0963,  0.0115,\n",
      "           -0.0052],\n",
      "          [-0.0577,  0.0351, -0.0424, -0.0568, -0.0697,  0.0320,  0.0957,\n",
      "           -0.0073],\n",
      "          [-0.1191, -0.0459, -0.0097, -0.0873,  0.0766,  0.0379,  0.0189,\n",
      "            0.0402],\n",
      "          [ 0.0901,  0.0470,  0.0109, -0.0641,  0.0399,  0.0594, -0.0135,\n",
      "           -0.0332]]]])\n"
     ]
    }
   ],
   "source": [
    "print(model['conv1.weight'])"
   ]
  },
  {
   "cell_type": "code",
   "execution_count": null,
   "metadata": {},
   "outputs": [],
   "source": []
  },
  {
   "cell_type": "code",
   "execution_count": 92,
   "metadata": {},
   "outputs": [
    {
     "data": {
      "image/png": "[encoded data removed]",
      "text/plain": [
       "<Figure size 432x288 with 1 Axes>"
      ]
     },
     "metadata": {
      "needs_background": "light"
     },
     "output_type": "display_data"
    },
    {
     "data": {
      "image/png": "[encoded data removed]",
      "text/plain": [
       "<Figure size 432x288 with 1 Axes>"
      ]
     },
     "metadata": {
      "needs_background": "light"
     },
     "output_type": "display_data"
    },
    {
     "data": {
      "image/png": "[encoded data removed]",
      "text/plain": [
       "<Figure size 432x288 with 1 Axes>"
      ]
     },
     "metadata": {
      "needs_background": "light"
     },
     "output_type": "display_data"
    },
    {
     "data": {
      "image/png": "[encoded data removed]",
      "text/plain": [
       "<Figure size 432x288 with 1 Axes>"
      ]
     },
     "metadata": {
      "needs_background": "light"
     },
     "output_type": "display_data"
    },
    {
     "data": {
      "image/png": "[encoded data removed]",
      "text/plain": [
       "<Figure size 432x288 with 1 Axes>"
      ]
     },
     "metadata": {
      "needs_background": "light"
     },
     "output_type": "display_data"
    },
    {
     "data": {
      "image/png": "[encoded data removed]",
      "text/plain": [
       "<Figure size 432x288 with 1 Axes>"
      ]
     },
     "metadata": {
      "needs_background": "light"
     },
     "output_type": "display_data"
    },
    {
     "data": {
      "image/png": "[encoded data removed]",
      "text/plain": [
       "<Figure size 432x288 with 1 Axes>"
      ]
     },
     "metadata": {
      "needs_background": "light"
     },
     "output_type": "display_data"
    },
    {
     "data": {
      "image/png": "[encoded data removed]",
      "text/plain": [
       "<Figure size 432x288 with 1 Axes>"
      ]
     },
     "metadata": {
      "needs_background": "light"
     },
     "output_type": "display_data"
    },
    {
     "data": {
      "image/png": "[encoded data removed]",
      "text/plain": [
       "<Figure size 432x288 with 1 Axes>"
      ]
     },
     "metadata": {
      "needs_background": "light"
     },
     "output_type": "display_data"
    },
    {
     "data": {
      "image/png": "[encoded data removed]",
      "text/plain": [
       "<Figure size 432x288 with 1 Axes>"
      ]
     },
     "metadata": {
      "needs_background": "light"
     },
     "output_type": "display_data"
    },
    {
     "data": {
      "image/png": "[encoded data removed]",
      "text/plain": [
       "<Figure size 432x288 with 1 Axes>"
      ]
     },
     "metadata": {
      "needs_background": "light"
     },
     "output_type": "display_data"
    },
    {
     "data": {
      "image/png": "[encoded data removed]",
      "text/plain": [
       "<Figure size 432x288 with 1 Axes>"
      ]
     },
     "metadata": {
      "needs_background": "light"
     },
     "output_type": "display_data"
    },
    {
     "data": {
      "text/plain": [
       "<Figure size 432x288 with 0 Axes>"
      ]
     },
     "metadata": {},
     "output_type": "display_data"
    }
   ],
   "source": [
    "#print(model['conv1.weight'][0])\n",
    "\n",
    "filters = model['conv1.weight'].numpy()\n",
    "\n",
    "for fltr in filters:\n",
    "    plt.imshow(fltr[0])\n",
    "    plt.figure()\n",
    "\n",
    "    "
   ]
  },
  {
   "cell_type": "code",
   "execution_count": 61,
   "metadata": {},
   "outputs": [
    {
     "data": {
      "image/png": "[encoded data removed]",
      "text/plain": [
       "<Figure size 432x288 with 1 Axes>"
      ]
     },
     "metadata": {
      "needs_background": "light"
     },
     "output_type": "display_data"
    },
    {
     "data": {
      "image/png": "[encoded data removed]",
      "text/plain": [
       "<Figure size 432x288 with 1 Axes>"
      ]
     },
     "metadata": {
      "needs_background": "light"
     },
     "output_type": "display_data"
    },
    {
     "data": {
      "image/png": "[encoded data removed]",
      "text/plain": [
       "<Figure size 432x288 with 1 Axes>"
      ]
     },
     "metadata": {
      "needs_background": "light"
     },
     "output_type": "display_data"
    },
    {
     "data": {
      "image/png": "[encoded data removed]",
      "text/plain": [
       "<Figure size 432x288 with 1 Axes>"
      ]
     },
     "metadata": {
      "needs_background": "light"
     },
     "output_type": "display_data"
    },
    {
     "data": {
      "image/png": "[encoded data removed]",
      "text/plain": [
       "<Figure size 432x288 with 1 Axes>"
      ]
     },
     "metadata": {
      "needs_background": "light"
     },
     "output_type": "display_data"
    },
    {
     "data": {
      "image/png": "[encoded data removed]",
      "text/plain": [
       "<Figure size 432x288 with 1 Axes>"
      ]
     },
     "metadata": {
      "needs_background": "light"
     },
     "output_type": "display_data"
    },
    {
     "data": {
      "image/png": "[encoded data removed]",
      "text/plain": [
       "<Figure size 432x288 with 1 Axes>"
      ]
     },
     "metadata": {
      "needs_background": "light"
     },
     "output_type": "display_data"
    },
    {
     "data": {
      "image/png": "[encoded data removed]",
      "text/plain": [
       "<Figure size 432x288 with 1 Axes>"
      ]
     },
     "metadata": {
      "needs_background": "light"
     },
     "output_type": "display_data"
    },
    {
     "data": {
      "image/png": "[encoded data removed]",
      "text/plain": [
       "<Figure size 432x288 with 1 Axes>"
      ]
     },
     "metadata": {
      "needs_background": "light"
     },
     "output_type": "display_data"
    },
    {
     "data": {
      "image/png": "[encoded data removed]",
      "text/plain": [
       "<Figure size 432x288 with 1 Axes>"
      ]
     },
     "metadata": {
      "needs_background": "light"
     },
     "output_type": "display_data"
    },
    {
     "data": {
      "image/png": "[encoded data removed]",
      "text/plain": [
       "<Figure size 432x288 with 1 Axes>"
      ]
     },
     "metadata": {
      "needs_background": "light"
     },
     "output_type": "display_data"
    },
    {
     "data": {
      "image/png": "[encoded data removed]",
      "text/plain": [
       "<Figure size 432x288 with 1 Axes>"
      ]
     },
     "metadata": {
      "needs_background": "light"
     },
     "output_type": "display_data"
    },
    {
     "data": {
      "text/plain": [
       "<Figure size 432x288 with 0 Axes>"
      ]
     },
     "metadata": {},
     "output_type": "display_data"
    }
   ],
   "source": [
    "filters = model['conv2.weight'].numpy()\n",
    "\n",
    "for fltr in filters:\n",
    "    plt.imshow(fltr[0])\n",
    "    plt.figure()"
   ]
  },
  {
   "cell_type": "code",
   "execution_count": 62,
   "metadata": {},
   "outputs": [
    {
     "data": {
      "image/png": "[encoded data removed]",
      "text/plain": [
       "<Figure size 432x288 with 1 Axes>"
      ]
     },
     "metadata": {
      "needs_background": "light"
     },
     "output_type": "display_data"
    },
    {
     "data": {
      "image/png": "[encoded data removed]",
      "text/plain": [
       "<Figure size 432x288 with 1 Axes>"
      ]
     },
     "metadata": {
      "needs_background": "light"
     },
     "output_type": "display_data"
    },
    {
     "data": {
      "image/png": "[encoded data removed]",
      "text/plain": [
       "<Figure size 432x288 with 1 Axes>"
      ]
     },
     "metadata": {
      "needs_background": "light"
     },
     "output_type": "display_data"
    },
    {
     "data": {
      "image/png": "[encoded data removed]",
      "text/plain": [
       "<Figure size 432x288 with 1 Axes>"
      ]
     },
     "metadata": {
      "needs_background": "light"
     },
     "output_type": "display_data"
    },
    {
     "data": {
      "image/png": "[encoded data removed]",
      "text/plain": [
       "<Figure size 432x288 with 1 Axes>"
      ]
     },
     "metadata": {
      "needs_background": "light"
     },
     "output_type": "display_data"
    },
    {
     "data": {
      "image/png": "[encoded data removed]",
      "text/plain": [
       "<Figure size 432x288 with 1 Axes>"
      ]
     },
     "metadata": {
      "needs_background": "light"
     },
     "output_type": "display_data"
    },
    {
     "data": {
      "image/png": "[encoded data removed]",
      "text/plain": [
       "<Figure size 432x288 with 1 Axes>"
      ]
     },
     "metadata": {
      "needs_background": "light"
     },
     "output_type": "display_data"
    },
    {
     "data": {
      "image/png": "[encoded data removed]",
      "text/plain": [
       "<Figure size 432x288 with 1 Axes>"
      ]
     },
     "metadata": {
      "needs_background": "light"
     },
     "output_type": "display_data"
    },
    {
     "data": {
      "image/png": "[encoded data removed]",
      "text/plain": [
       "<Figure size 432x288 with 1 Axes>"
      ]
     },
     "metadata": {
      "needs_background": "light"
     },
     "output_type": "display_data"
    },
    {
     "data": {
      "image/png": "[encoded data removed]",
      "text/plain": [
       "<Figure size 432x288 with 1 Axes>"
      ]
     },
     "metadata": {
      "needs_background": "light"
     },
     "output_type": "display_data"
    },
    {
     "data": {
      "text/plain": [
       "<Figure size 432x288 with 0 Axes>"
      ]
     },
     "metadata": {},
     "output_type": "display_data"
    }
   ],
   "source": [
    "filters = model['conv3.weight'].numpy()\n",
    "\n",
    "for fltr in filters:\n",
    "    plt.imshow(fltr[0])\n",
    "    plt.figure()"
   ]
  },
  {
   "cell_type": "code",
   "execution_count": 93,
   "metadata": {},
   "outputs": [
    {
     "data": {
      "image/png": "[encoded data removed]",
      "text/plain": [
       "<Figure size 432x288 with 1 Axes>"
      ]
     },
     "metadata": {
      "needs_background": "light"
     },
     "output_type": "display_data"
    },
    {
     "data": {
      "image/png": "[encoded data removed]",
      "text/plain": [
       "<Figure size 432x288 with 1 Axes>"
      ]
     },
     "metadata": {
      "needs_background": "light"
     },
     "output_type": "display_data"
    },
    {
     "data": {
      "image/png": "[encoded data removed]",
      "text/plain": [
       "<Figure size 432x288 with 1 Axes>"
      ]
     },
     "metadata": {
      "needs_background": "light"
     },
     "output_type": "display_data"
    },
    {
     "data": {
      "image/png": "[encoded data removed]",
      "text/plain": [
       "<Figure size 432x288 with 1 Axes>"
      ]
     },
     "metadata": {
      "needs_background": "light"
     },
     "output_type": "display_data"
    },
    {
     "data": {
      "image/png": "[encoded data removed]",
      "text/plain": [
       "<Figure size 432x288 with 1 Axes>"
      ]
     },
     "metadata": {
      "needs_background": "light"
     },
     "output_type": "display_data"
    },
    {
     "data": {
      "image/png": "[encoded data removed]",
      "text/plain": [
       "<Figure size 432x288 with 1 Axes>"
      ]
     },
     "metadata": {
      "needs_background": "light"
     },
     "output_type": "display_data"
    },
    {
     "data": {
      "image/png": "[encoded data removed]",
      "text/plain": [
       "<Figure size 432x288 with 1 Axes>"
      ]
     },
     "metadata": {
      "needs_background": "light"
     },
     "output_type": "display_data"
    },
    {
     "data": {
      "image/png": "[encoded data removed]",
      "text/plain": [
       "<Figure size 432x288 with 1 Axes>"
      ]
     },
     "metadata": {
      "needs_background": "light"
     },
     "output_type": "display_data"
    },
    {
     "data": {
      "image/png": "[encoded data removed]",
      "text/plain": [
       "<Figure size 432x288 with 1 Axes>"
      ]
     },
     "metadata": {
      "needs_background": "light"
     },
     "output_type": "display_data"
    },
    {
     "data": {
      "image/png": "[encoded data removed]",
      "text/plain": [
       "<Figure size 432x288 with 1 Axes>"
      ]
     },
     "metadata": {
      "needs_background": "light"
     },
     "output_type": "display_data"
    },
    {
     "data": {
      "text/plain": [
       "<Figure size 432x288 with 0 Axes>"
      ]
     },
     "metadata": {},
     "output_type": "display_data"
    }
   ],
   "source": [
    "filters = model['conv4.weight'].numpy()\n",
    "\n",
    "for fltr in filters:\n",
    "    plt.imshow(fltr[0])\n",
    "    plt.figure()"
   ]
  },
  {
   "cell_type": "code",
   "execution_count": 94,
   "metadata": {},
   "outputs": [
    {
     "data": {
      "image/png": "[encoded data removed]",
      "text/plain": [
       "<Figure size 432x288 with 1 Axes>"
      ]
     },
     "metadata": {
      "needs_background": "light"
     },
     "output_type": "display_data"
    },
    {
     "data": {
      "image/png": "[encoded data removed]",
      "text/plain": [
       "<Figure size 432x288 with 1 Axes>"
      ]
     },
     "metadata": {
      "needs_background": "light"
     },
     "output_type": "display_data"
    },
    {
     "data": {
      "image/png": "[encoded data removed]",
      "text/plain": [
       "<Figure size 432x288 with 1 Axes>"
      ]
     },
     "metadata": {
      "needs_background": "light"
     },
     "output_type": "display_data"
    },
    {
     "data": {
      "image/png": "[encoded data removed]",
      "text/plain": [
       "<Figure size 432x288 with 1 Axes>"
      ]
     },
     "metadata": {
      "needs_background": "light"
     },
     "output_type": "display_data"
    },
    {
     "data": {
      "image/png": "[encoded data removed]",
      "text/plain": [
       "<Figure size 432x288 with 1 Axes>"
      ]
     },
     "metadata": {
      "needs_background": "light"
     },
     "output_type": "display_data"
    },
    {
     "data": {
      "image/png": "[encoded data removed]",
      "text/plain": [
       "<Figure size 432x288 with 1 Axes>"
      ]
     },
     "metadata": {
      "needs_background": "light"
     },
     "output_type": "display_data"
    },
    {
     "data": {
      "image/png": "[encoded data removed]",
      "text/plain": [
       "<Figure size 432x288 with 1 Axes>"
      ]
     },
     "metadata": {
      "needs_background": "light"
     },
     "output_type": "display_data"
    },
    {
     "data": {
      "image/png": "[encoded data removed]",
      "text/plain": [
       "<Figure size 432x288 with 1 Axes>"
      ]
     },
     "metadata": {
      "needs_background": "light"
     },
     "output_type": "display_data"
    },
    {
     "data": {
      "text/plain": [
       "<Figure size 432x288 with 0 Axes>"
      ]
     },
     "metadata": {},
     "output_type": "display_data"
    }
   ],
   "source": [
    "filters = model['conv5.weight'].numpy()\n",
    "\n",
    "for fltr in filters:\n",
    "    plt.imshow(fltr[0])\n",
    "    plt.figure()"
   ]
  },
  {
   "cell_type": "code",
   "execution_count": 70,
   "metadata": {},
   "outputs": [
    {
     "name": "stdout",
     "output_type": "stream",
     "text": [
      "115200\n"
     ]
    },
    {
     "data": {
      "text/plain": [
       "\"\\nfilters = model['fc1.weight'].numpy()\\n\\nfor fltr in filters:\\n    plt.imshow(fltr[0])\\n    plt.figure()\\n\\n\""
      ]
     },
     "execution_count": 70,
     "metadata": {},
     "output_type": "execute_result"
    }
   ],
   "source": [
    "#print(model['fc1.weight'])\n",
    "print(len(model['fc1.weight'][0]))\n",
    "'''\n",
    "filters = model['fc1.weight'].numpy()\n",
    "\n",
    "for fltr in filters:\n",
    "    plt.imshow(fltr[0])\n",
    "    plt.figure()\n",
    "\n",
    "'''"
   ]
  },
  {
   "cell_type": "code",
   "execution_count": null,
   "metadata": {},
   "outputs": [],
   "source": []
  }
 ],
 "metadata": {
  "kernelspec": {
   "display_name": "Python 3",
   "language": "python",
   "name": "python3"
  },
  "language_info": {
   "codemirror_mode": {
    "name": "ipython",
    "version": 3
   },
   "file_extension": ".py",
   "mimetype": "text/x-python",
   "name": "python",
   "nbconvert_exporter": "python",
   "pygments_lexer": "ipython3",
   "version": "3.6.6"
  }
 },
 "nbformat": 4,
 "nbformat_minor": 2
}
